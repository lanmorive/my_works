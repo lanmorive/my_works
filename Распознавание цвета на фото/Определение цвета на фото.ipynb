{
 "cells": [
  {
   "cell_type": "code",
   "execution_count": 1,
   "id": "fd0b56d7",
   "metadata": {},
   "outputs": [],
   "source": [
    "import pandas as pd\n",
    "import matplotlib.image as img\n",
    "import matplotlib.pyplot as plt\n",
    "photo=img.imread(r\"C:\\Users\\lanmo\\Videos\\Без имени.png\")\n",
    "photo = photo[:, :, :3]\n",
    "photo.shape\n",
    "import random\n",
    "random.seed(0)"
   ]
  },
  {
   "cell_type": "code",
   "execution_count": 6,
   "id": "6b5baf00",
   "metadata": {},
   "outputs": [
    {
     "name": "stdout",
     "output_type": "stream",
     "text": [
      "[[[1. 1. 1.]\n",
      "  [1. 1. 1.]\n",
      "  [1. 1. 1.]\n",
      "  ...\n",
      "  [1. 1. 1.]\n",
      "  [1. 1. 1.]\n",
      "  [1. 1. 1.]]\n",
      "\n",
      " [[1. 1. 1.]\n",
      "  [1. 1. 1.]\n",
      "  [1. 1. 1.]\n",
      "  ...\n",
      "  [1. 1. 1.]\n",
      "  [1. 1. 1.]\n",
      "  [1. 1. 1.]]\n",
      "\n",
      " [[1. 1. 1.]\n",
      "  [1. 1. 1.]\n",
      "  [1. 1. 1.]\n",
      "  ...\n",
      "  [1. 1. 1.]\n",
      "  [1. 1. 1.]\n",
      "  [1. 1. 1.]]\n",
      "\n",
      " ...\n",
      "\n",
      " [[1. 1. 1.]\n",
      "  [1. 1. 1.]\n",
      "  [1. 1. 1.]\n",
      "  ...\n",
      "  [1. 1. 1.]\n",
      "  [1. 1. 1.]\n",
      "  [1. 1. 1.]]\n",
      "\n",
      " [[1. 1. 1.]\n",
      "  [1. 1. 1.]\n",
      "  [1. 1. 1.]\n",
      "  ...\n",
      "  [1. 1. 1.]\n",
      "  [1. 1. 1.]\n",
      "  [1. 1. 1.]]\n",
      "\n",
      " [[1. 1. 1.]\n",
      "  [1. 1. 1.]\n",
      "  [1. 1. 1.]\n",
      "  ...\n",
      "  [1. 1. 1.]\n",
      "  [1. 1. 1.]\n",
      "  [1. 1. 1.]]]\n"
     ]
    }
   ],
   "source": [
    "print(photo)"
   ]
  },
  {
   "cell_type": "code",
   "execution_count": 2,
   "id": "7b9c9753",
   "metadata": {},
   "outputs": [],
   "source": [
    "from scipy.cluster.vq import kmeans,vq,whiten\n",
    "import seaborn as sns"
   ]
  },
  {
   "cell_type": "code",
   "execution_count": 3,
   "id": "bc98989b",
   "metadata": {},
   "outputs": [],
   "source": [
    "r = []\n",
    "g = []\n",
    "b = []\n",
    "for row in photo:\n",
    "    for pixel in row:\n",
    "        temp_r,temp_g,temp_b = pixel\n",
    "        r.append(temp_r)\n",
    "        g.append(temp_g)\n",
    "        b.append(temp_b)\n"
   ]
  },
  {
   "cell_type": "code",
   "execution_count": 4,
   "id": "3cf98756",
   "metadata": {},
   "outputs": [
    {
     "data": {
      "text/html": [
       "<div>\n",
       "<style scoped>\n",
       "    .dataframe tbody tr th:only-of-type {\n",
       "        vertical-align: middle;\n",
       "    }\n",
       "\n",
       "    .dataframe tbody tr th {\n",
       "        vertical-align: top;\n",
       "    }\n",
       "\n",
       "    .dataframe thead th {\n",
       "        text-align: right;\n",
       "    }\n",
       "</style>\n",
       "<table border=\"1\" class=\"dataframe\">\n",
       "  <thead>\n",
       "    <tr style=\"text-align: right;\">\n",
       "      <th></th>\n",
       "      <th>red</th>\n",
       "      <th>green</th>\n",
       "      <th>blue</th>\n",
       "    </tr>\n",
       "  </thead>\n",
       "  <tbody>\n",
       "    <tr>\n",
       "      <th>0</th>\n",
       "      <td>1.0</td>\n",
       "      <td>1.0</td>\n",
       "      <td>1.0</td>\n",
       "    </tr>\n",
       "    <tr>\n",
       "      <th>1</th>\n",
       "      <td>1.0</td>\n",
       "      <td>1.0</td>\n",
       "      <td>1.0</td>\n",
       "    </tr>\n",
       "    <tr>\n",
       "      <th>2</th>\n",
       "      <td>1.0</td>\n",
       "      <td>1.0</td>\n",
       "      <td>1.0</td>\n",
       "    </tr>\n",
       "    <tr>\n",
       "      <th>3</th>\n",
       "      <td>1.0</td>\n",
       "      <td>1.0</td>\n",
       "      <td>1.0</td>\n",
       "    </tr>\n",
       "    <tr>\n",
       "      <th>4</th>\n",
       "      <td>1.0</td>\n",
       "      <td>1.0</td>\n",
       "      <td>1.0</td>\n",
       "    </tr>\n",
       "  </tbody>\n",
       "</table>\n",
       "</div>"
      ],
      "text/plain": [
       "   red  green  blue\n",
       "0  1.0    1.0   1.0\n",
       "1  1.0    1.0   1.0\n",
       "2  1.0    1.0   1.0\n",
       "3  1.0    1.0   1.0\n",
       "4  1.0    1.0   1.0"
      ]
     },
     "execution_count": 4,
     "metadata": {},
     "output_type": "execute_result"
    }
   ],
   "source": [
    "data= pd.DataFrame({\n",
    "    'red':r,\n",
    "    'green':g,\n",
    "    'blue':b\n",
    "})\n",
    "data.head()"
   ]
  },
  {
   "cell_type": "code",
   "execution_count": 5,
   "id": "c22b5d72",
   "metadata": {},
   "outputs": [],
   "source": [
    "data[['red_scal','green_scal','blue_scal']] = whiten(data)"
   ]
  },
  {
   "cell_type": "code",
   "execution_count": 6,
   "id": "74998b72",
   "metadata": {},
   "outputs": [
    {
     "data": {
      "text/html": [
       "<div>\n",
       "<style scoped>\n",
       "    .dataframe tbody tr th:only-of-type {\n",
       "        vertical-align: middle;\n",
       "    }\n",
       "\n",
       "    .dataframe tbody tr th {\n",
       "        vertical-align: top;\n",
       "    }\n",
       "\n",
       "    .dataframe thead th {\n",
       "        text-align: right;\n",
       "    }\n",
       "</style>\n",
       "<table border=\"1\" class=\"dataframe\">\n",
       "  <thead>\n",
       "    <tr style=\"text-align: right;\">\n",
       "      <th></th>\n",
       "      <th>red</th>\n",
       "      <th>green</th>\n",
       "      <th>blue</th>\n",
       "      <th>red_scal</th>\n",
       "      <th>green_scal</th>\n",
       "      <th>blue_scal</th>\n",
       "    </tr>\n",
       "  </thead>\n",
       "  <tbody>\n",
       "    <tr>\n",
       "      <th>0</th>\n",
       "      <td>1.0</td>\n",
       "      <td>1.0</td>\n",
       "      <td>1.0</td>\n",
       "      <td>10.306679</td>\n",
       "      <td>4.809028</td>\n",
       "      <td>5.240209</td>\n",
       "    </tr>\n",
       "    <tr>\n",
       "      <th>1</th>\n",
       "      <td>1.0</td>\n",
       "      <td>1.0</td>\n",
       "      <td>1.0</td>\n",
       "      <td>10.306679</td>\n",
       "      <td>4.809028</td>\n",
       "      <td>5.240209</td>\n",
       "    </tr>\n",
       "    <tr>\n",
       "      <th>2</th>\n",
       "      <td>1.0</td>\n",
       "      <td>1.0</td>\n",
       "      <td>1.0</td>\n",
       "      <td>10.306679</td>\n",
       "      <td>4.809028</td>\n",
       "      <td>5.240209</td>\n",
       "    </tr>\n",
       "    <tr>\n",
       "      <th>3</th>\n",
       "      <td>1.0</td>\n",
       "      <td>1.0</td>\n",
       "      <td>1.0</td>\n",
       "      <td>10.306679</td>\n",
       "      <td>4.809028</td>\n",
       "      <td>5.240209</td>\n",
       "    </tr>\n",
       "    <tr>\n",
       "      <th>4</th>\n",
       "      <td>1.0</td>\n",
       "      <td>1.0</td>\n",
       "      <td>1.0</td>\n",
       "      <td>10.306679</td>\n",
       "      <td>4.809028</td>\n",
       "      <td>5.240209</td>\n",
       "    </tr>\n",
       "    <tr>\n",
       "      <th>...</th>\n",
       "      <td>...</td>\n",
       "      <td>...</td>\n",
       "      <td>...</td>\n",
       "      <td>...</td>\n",
       "      <td>...</td>\n",
       "      <td>...</td>\n",
       "    </tr>\n",
       "    <tr>\n",
       "      <th>40774</th>\n",
       "      <td>1.0</td>\n",
       "      <td>1.0</td>\n",
       "      <td>1.0</td>\n",
       "      <td>10.306679</td>\n",
       "      <td>4.809028</td>\n",
       "      <td>5.240209</td>\n",
       "    </tr>\n",
       "    <tr>\n",
       "      <th>40775</th>\n",
       "      <td>1.0</td>\n",
       "      <td>1.0</td>\n",
       "      <td>1.0</td>\n",
       "      <td>10.306679</td>\n",
       "      <td>4.809028</td>\n",
       "      <td>5.240209</td>\n",
       "    </tr>\n",
       "    <tr>\n",
       "      <th>40776</th>\n",
       "      <td>1.0</td>\n",
       "      <td>1.0</td>\n",
       "      <td>1.0</td>\n",
       "      <td>10.306679</td>\n",
       "      <td>4.809028</td>\n",
       "      <td>5.240209</td>\n",
       "    </tr>\n",
       "    <tr>\n",
       "      <th>40777</th>\n",
       "      <td>1.0</td>\n",
       "      <td>1.0</td>\n",
       "      <td>1.0</td>\n",
       "      <td>10.306679</td>\n",
       "      <td>4.809028</td>\n",
       "      <td>5.240209</td>\n",
       "    </tr>\n",
       "    <tr>\n",
       "      <th>40778</th>\n",
       "      <td>1.0</td>\n",
       "      <td>1.0</td>\n",
       "      <td>1.0</td>\n",
       "      <td>10.306679</td>\n",
       "      <td>4.809028</td>\n",
       "      <td>5.240209</td>\n",
       "    </tr>\n",
       "  </tbody>\n",
       "</table>\n",
       "<p>40779 rows × 6 columns</p>\n",
       "</div>"
      ],
      "text/plain": [
       "       red  green  blue   red_scal  green_scal  blue_scal\n",
       "0      1.0    1.0   1.0  10.306679    4.809028   5.240209\n",
       "1      1.0    1.0   1.0  10.306679    4.809028   5.240209\n",
       "2      1.0    1.0   1.0  10.306679    4.809028   5.240209\n",
       "3      1.0    1.0   1.0  10.306679    4.809028   5.240209\n",
       "4      1.0    1.0   1.0  10.306679    4.809028   5.240209\n",
       "...    ...    ...   ...        ...         ...        ...\n",
       "40774  1.0    1.0   1.0  10.306679    4.809028   5.240209\n",
       "40775  1.0    1.0   1.0  10.306679    4.809028   5.240209\n",
       "40776  1.0    1.0   1.0  10.306679    4.809028   5.240209\n",
       "40777  1.0    1.0   1.0  10.306679    4.809028   5.240209\n",
       "40778  1.0    1.0   1.0  10.306679    4.809028   5.240209\n",
       "\n",
       "[40779 rows x 6 columns]"
      ]
     },
     "execution_count": 6,
     "metadata": {},
     "output_type": "execute_result"
    }
   ],
   "source": [
    "data"
   ]
  },
  {
   "cell_type": "code",
   "execution_count": 7,
   "id": "4ba122be",
   "metadata": {},
   "outputs": [
    {
     "data": {
      "text/plain": [
       "(40779, 6)"
      ]
     },
     "execution_count": 7,
     "metadata": {},
     "output_type": "execute_result"
    }
   ],
   "source": [
    "data.shape\n"
   ]
  },
  {
   "cell_type": "code",
   "execution_count": 8,
   "id": "9b40bbc3",
   "metadata": {},
   "outputs": [
    {
     "data": {
      "text/plain": [
       "<Axes: xlabel='num_clust', ylabel='distortions'>"
      ]
     },
     "execution_count": 8,
     "metadata": {},
     "output_type": "execute_result"
    },
    {
     "data": {
      "image/png": "[encoded data removed]",
      "text/plain": [
       "<Figure size 640x480 with 1 Axes>"
      ]
     },
     "metadata": {},
     "output_type": "display_data"
    }
   ],
   "source": [
    "error = []\n",
    "cluster = range(1,6)\n",
    "for i in cluster:\n",
    "    centroid,j = kmeans(data[['red_scal','green_scal','blue_scal']],i,seed = 0)\n",
    "    error.append(j)\n",
    "data_error = pd.DataFrame({'num_clust':cluster,\n",
    "                           'distortions':error\n",
    "                          })\n",
    "sns.lineplot(x='num_clust',y='distortions', data = data_error)"
   ]
  },
  {
   "cell_type": "code",
   "execution_count": 18,
   "id": "f738cb22",
   "metadata": {},
   "outputs": [],
   "source": [
    "colors = [] \n",
    "r_std,g_std,b_std = data[['red','green','blue']].std()\n",
    "centroid,_ = kmeans(data[['red_scal','green_scal','blue_scal']],2,seed = 0)\n",
    "for center in centroid:\n",
    "    scaled_r,scaled_g,scaled_b = center\n",
    "    colors.append((scaled_r * r_std,scaled_g * g_std,scaled_b* b_std)) # тут на 255 делить не нужно так как уже проскалировано"
   ]
  },
  {
   "cell_type": "code",
   "execution_count": 19,
   "id": "b4593e92",
   "metadata": {},
   "outputs": [
    {
     "name": "stdout",
     "output_type": "stream",
     "text": [
      "[(0.547206714204652, 0.029703038893367006, 0.10951351715936397), (0.999148980079255, 0.9985856967521585, 0.9979101419691006)]\n"
     ]
    }
   ],
   "source": [
    "print(colors)"
   ]
  },
  {
   "cell_type": "code",
   "execution_count": 20,
   "id": "01582078",
   "metadata": {},
   "outputs": [
    {
     "data": {
      "image/png": "[encoded data removed]",
      "text/plain": [
       "<Figure size 640x480 with 1 Axes>"
      ]
     },
     "metadata": {},
     "output_type": "display_data"
    }
   ],
   "source": [
    "plt.imshow([colors])\n",
    "plt.show()"
   ]
  },
  {
   "cell_type": "code",
   "execution_count": null,
   "id": "591a7e97",
   "metadata": {},
   "outputs": [],
   "source": []
  }
 ],
 "metadata": {
  "kernelspec": {
   "display_name": "Python 3 (ipykernel)",
   "language": "python",
   "name": "python3"
  },
  "language_info": {
   "codemirror_mode": {
    "name": "ipython",
    "version": 3
   },
   "file_extension": ".py",
   "mimetype": "text/x-python",
   "name": "python",
   "nbconvert_exporter": "python",
   "pygments_lexer": "ipython3",
   "version": "3.11.5"
  }
 },
 "nbformat": 4,
 "nbformat_minor": 5
}
