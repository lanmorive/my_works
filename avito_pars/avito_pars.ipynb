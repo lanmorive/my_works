{
 "cells": [
  {
   "cell_type": "code",
   "execution_count": 18,
   "id": "ad50d91a",
   "metadata": {},
   "outputs": [],
   "source": [
    "from selenium import webdriver\n",
    "from selenium.webdriver.common.by import By\n",
    "driver = webdriver.Chrome()\n",
    "import pandas as pd\n",
    "import time\n",
    "import random as rd"
   ]
  },
  {
   "cell_type": "code",
   "execution_count": 19,
   "id": "bfd841dd",
   "metadata": {},
   "outputs": [],
   "source": [
    "import os\n",
    "os.chdir(r'C:\\Users\\lanmo\\OneDrive\\Документы\\avito_df')"
   ]
  },
  {
   "cell_type": "code",
   "execution_count": 20,
   "id": "77f08984",
   "metadata": {},
   "outputs": [],
   "source": [
    "data_moscov = []"
   ]
  },
  {
   "cell_type": "code",
   "execution_count": null,
   "id": "9fded502",
   "metadata": {},
   "outputs": [],
   "source": [
    "for i in range(1,101):\n",
    "    driver.get(f'https://www.avito.ru/moskva/avtomobili?p={i}&radius=0&searchRadius=0')\n",
    "    l = driver.find_elements(By.CSS_SELECTOR,'a[class = \"styles-module-root-YeOVk styles-module-root_noVisited-MpiGq\"]')\n",
    "    for j in l:\n",
    "        data_moscov.append(j.get_attribute(\"href\"))"
   ]
  },
  {
   "cell_type": "code",
   "execution_count": null,
   "id": "d341cb00",
   "metadata": {},
   "outputs": [],
   "source": [
    "data = set(data_moscov)"
   ]
  },
  {
   "cell_type": "code",
   "execution_count": null,
   "id": "b1794f97",
   "metadata": {},
   "outputs": [],
   "source": [
    "len(data)"
   ]
  },
  {
   "cell_type": "code",
   "execution_count": null,
   "id": "92799234",
   "metadata": {},
   "outputs": [],
   "source": [
    "slov = []\n",
    "g = 1\n",
    "for dan in data:\n",
    "    dic = dict()\n",
    "    try:\n",
    "        driver.get(dan)\n",
    "        k = driver.find_element(By.CLASS_NAME,\"style-titleWrapper-Hmr_5\")\n",
    "        dic['name'] = k.text\n",
    "        t = driver.find_element(By.CSS_SELECTOR,\"span[itemprop = 'price']\")\n",
    "        dic['price'] = int(t.get_attribute('content'))\n",
    "        all1 = driver.find_elements(By.CSS_SELECTOR,\"li[class = 'params-paramsList__item-_2Y2O']\")\n",
    "        for j in all1:\n",
    "            per = j.text.split(':')\n",
    "            dic[per[0]] = per[1]\n",
    "        slov.append(dic)\n",
    "    except:\n",
    "        print('Ошибка 1')\n",
    "    print(f'{g} шаг')\n",
    "    g+=1\n",
    "    time.sleep(rd.randint(10,15))\n",
    "\n",
    "        "
   ]
  },
  {
   "cell_type": "code",
   "execution_count": null,
   "id": "67f1ebea",
   "metadata": {},
   "outputs": [],
   "source": [
    "df = pd.DataFrame(slov)\n",
    "df.to_csv('df_moscov.csv')"
   ]
  },
  {
   "cell_type": "code",
   "execution_count": null,
   "id": "3b98c3a4",
   "metadata": {},
   "outputs": [],
   "source": [
    "data_all = []"
   ]
  },
  {
   "cell_type": "code",
   "execution_count": null,
   "id": "f2080134",
   "metadata": {},
   "outputs": [],
   "source": [
    "for i in range(1,101):\n",
    "    driver.get(f'https://www.avito.ru/all/avtomobili?p={i}')\n",
    "    l = driver.find_elements(By.CSS_SELECTOR,'a[class = \"styles-module-root-YeOVk styles-module-root_noVisited-MpiGq\"]')\n",
    "    for j in l:\n",
    "        data_all.append(j.get_attribute(\"href\"))"
   ]
  },
  {
   "cell_type": "code",
   "execution_count": null,
   "id": "ab80cfa3",
   "metadata": {},
   "outputs": [],
   "source": [
    "len(data_all)"
   ]
  },
  {
   "cell_type": "code",
   "execution_count": null,
   "id": "e930037e",
   "metadata": {},
   "outputs": [],
   "source": [
    "data_all = set(data_all)"
   ]
  },
  {
   "cell_type": "code",
   "execution_count": null,
   "id": "3fb86124",
   "metadata": {},
   "outputs": [],
   "source": [
    "data_all = list(data_all)"
   ]
  },
  {
   "cell_type": "code",
   "execution_count": null,
   "id": "8c37fb6f",
   "metadata": {},
   "outputs": [],
   "source": [
    "len(data_all)"
   ]
  },
  {
   "cell_type": "code",
   "execution_count": null,
   "id": "eb5a10b1",
   "metadata": {},
   "outputs": [],
   "source": [
    "slav = []"
   ]
  },
  {
   "cell_type": "code",
   "execution_count": null,
   "id": "2b2dc3d8",
   "metadata": {},
   "outputs": [],
   "source": [
    "g = 0\n",
    "for dan in data_all[0:]:\n",
    "    dic = dict()\n",
    "    try:\n",
    "        driver.get(dan)\n",
    "        k = driver.find_element(By.CLASS_NAME,\"style-titleWrapper-Hmr_5\")\n",
    "        dic['name'] = k.text\n",
    "        t = driver.find_element(By.CSS_SELECTOR,\"span[itemprop = 'price']\")\n",
    "        dic['price'] = int(t.get_attribute('content'))\n",
    "        all1 = driver.find_elements(By.CSS_SELECTOR,\"li[class = 'params-paramsList__item-_2Y2O']\")\n",
    "        dic['Расположение'] = driver.find_element(By.CLASS_NAME,'style-item-address__string-wt61A').text\n",
    "        for j in all1:\n",
    "            per = j.text.split(':')\n",
    "            dic[per[0]] = per[1]\n",
    "        \n",
    "        slav.append(dic)\n",
    "    except:\n",
    "        print('Ошибка 1')\n",
    "    print(f'{g} шаг')\n",
    "    g+=1\n",
    "    time.sleep(rd.randint(5,15))"
   ]
  },
  {
   "cell_type": "code",
   "execution_count": null,
   "id": "4987d341",
   "metadata": {},
   "outputs": [],
   "source": [
    "driver.close()"
   ]
  },
  {
   "cell_type": "code",
   "execution_count": null,
   "id": "ef4b77f4",
   "metadata": {},
   "outputs": [],
   "source": [
    "len(slav)"
   ]
  },
  {
   "cell_type": "code",
   "execution_count": null,
   "id": "b77a45bc",
   "metadata": {},
   "outputs": [],
   "source": [
    "data2 = pd.DataFrame(slav)"
   ]
  },
  {
   "cell_type": "code",
   "execution_count": null,
   "id": "008036ff",
   "metadata": {},
   "outputs": [],
   "source": [
    "data2"
   ]
  },
  {
   "cell_type": "code",
   "execution_count": null,
   "id": "6c798e6e",
   "metadata": {},
   "outputs": [],
   "source": [
    "data2.to_csv('our_avito.csv')"
   ]
  }
 ],
 "metadata": {
  "kernelspec": {
   "display_name": "Python 3 (ipykernel)",
   "language": "python",
   "name": "python3"
  },
  "language_info": {
   "codemirror_mode": {
    "name": "ipython",
    "version": 3
   },
   "file_extension": ".py",
   "mimetype": "text/x-python",
   "name": "python",
   "nbconvert_exporter": "python",
   "pygments_lexer": "ipython3",
   "version": "3.11.5"
  }
 },
 "nbformat": 4,
 "nbformat_minor": 5
}
