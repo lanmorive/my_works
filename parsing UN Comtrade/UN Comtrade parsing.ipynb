{
 "cells": [
  {
   "cell_type": "markdown",
   "id": "9808105f",
   "metadata": {},
   "source": [
    "Comtrade API\n",
    "- Собрать для топ 50 стран экспортеров нефти (2709) в 2019 году, собрать для них статистику эксорта и зеркального экспорта (в 2023 году)"
   ]
  },
  {
   "cell_type": "code",
   "execution_count": 1,
   "id": "cd449610",
   "metadata": {},
   "outputs": [],
   "source": [
    "import requests\n",
    "import pandas as pd\n",
    "import matplotlib.pyplot as plt\n",
    "import time"
   ]
  },
  {
   "cell_type": "code",
   "execution_count": 2,
   "id": "dd9a68e1",
   "metadata": {},
   "outputs": [],
   "source": [
    "country_dict = requests.get('https://comtradeapi.un.org/files/v1/app/reference/Reporters.json').json()['results'] # Сделали запрос"
   ]
  },
  {
   "cell_type": "code",
   "execution_count": 3,
   "id": "6d6249e5",
   "metadata": {},
   "outputs": [],
   "source": [
    "country = (pd.DataFrame([(i['id'],i['text']) for i in country_dict])\n",
    " .rename({0:'id',1:'country'},axis=1)) # Преобразовали в датафрейм"
   ]
  },
  {
   "cell_type": "code",
   "execution_count": 4,
   "id": "5594e8cb",
   "metadata": {},
   "outputs": [
    {
     "data": {
      "text/html": [
       "<div>\n",
       "<style scoped>\n",
       "    .dataframe tbody tr th:only-of-type {\n",
       "        vertical-align: middle;\n",
       "    }\n",
       "\n",
       "    .dataframe tbody tr th {\n",
       "        vertical-align: top;\n",
       "    }\n",
       "\n",
       "    .dataframe thead th {\n",
       "        text-align: right;\n",
       "    }\n",
       "</style>\n",
       "<table border=\"1\" class=\"dataframe\">\n",
       "  <thead>\n",
       "    <tr style=\"text-align: right;\">\n",
       "      <th></th>\n",
       "      <th>id</th>\n",
       "      <th>country</th>\n",
       "    </tr>\n",
       "  </thead>\n",
       "  <tbody>\n",
       "    <tr>\n",
       "      <th>0</th>\n",
       "      <td>4</td>\n",
       "      <td>Afghanistan</td>\n",
       "    </tr>\n",
       "    <tr>\n",
       "      <th>1</th>\n",
       "      <td>8</td>\n",
       "      <td>Albania</td>\n",
       "    </tr>\n",
       "    <tr>\n",
       "      <th>2</th>\n",
       "      <td>12</td>\n",
       "      <td>Algeria</td>\n",
       "    </tr>\n",
       "    <tr>\n",
       "      <th>3</th>\n",
       "      <td>20</td>\n",
       "      <td>Andorra</td>\n",
       "    </tr>\n",
       "    <tr>\n",
       "      <th>4</th>\n",
       "      <td>24</td>\n",
       "      <td>Angola</td>\n",
       "    </tr>\n",
       "  </tbody>\n",
       "</table>\n",
       "</div>"
      ],
      "text/plain": [
       "   id      country\n",
       "0   4  Afghanistan\n",
       "1   8      Albania\n",
       "2  12      Algeria\n",
       "3  20      Andorra\n",
       "4  24       Angola"
      ]
     },
     "execution_count": 4,
     "metadata": {},
     "output_type": "execute_result"
    }
   ],
   "source": [
    "country.head(5)"
   ]
  },
  {
   "cell_type": "markdown",
   "id": "77c1e58d",
   "metadata": {},
   "source": [
    "# Экспорт нефти 2019"
   ]
  },
  {
   "cell_type": "markdown",
   "id": "29d90398",
   "metadata": {},
   "source": [
    "Шаблон: https://comtradeapi.un.org/data/v1/get/{typeCode}/{freqCode}/{clCode}"
   ]
  },
  {
   "cell_type": "code",
   "execution_count": 5,
   "id": "abf802c0",
   "metadata": {},
   "outputs": [],
   "source": [
    "typeCode = 'C'\n",
    "freqCode = 'A'\n",
    "clCode = 'HS'\n",
    "\n",
    "links = f'https://comtradeapi.un.org/data/v1/get/{typeCode}/{freqCode}/{clCode}' #Базовая конструкция для нашей ссылки"
   ]
  },
  {
   "cell_type": "code",
   "execution_count": 6,
   "id": "73574ce6",
   "metadata": {},
   "outputs": [],
   "source": [
    "def params(period:int,partnerCode:int,flowCode:str,cmdCode):\n",
    "    parametrs = {\n",
    "              'subscription-key':'48b718d2cfe449d58f27d7d2e9faab5d',\n",
    "              'period': period,\n",
    "               'partnerCode':partnerCode,\n",
    "               'flowCode':flowCode,\n",
    "               'cmdCode':cmdCode,\n",
    "               'motCode':0,\n",
    "               'partner2Code':0,\n",
    "               'customsCode':'C00'\n",
    "    }\n",
    "    return parametrs"
   ]
  },
  {
   "cell_type": "code",
   "execution_count": 7,
   "id": "95e7326e",
   "metadata": {},
   "outputs": [],
   "source": [
    "parametrs = params(2019,0,'X',270900)"
   ]
  },
  {
   "cell_type": "code",
   "execution_count": 8,
   "id": "ac85b920",
   "metadata": {},
   "outputs": [],
   "source": [
    "request_2019 = requests.get(links,params=parametrs).json()\n",
    "request_2019 = request_2019['data']\n",
    "time.sleep(10)\n",
    "#Запрос"
   ]
  },
  {
   "cell_type": "code",
   "execution_count": 9,
   "id": "37f18456",
   "metadata": {},
   "outputs": [],
   "source": [
    "export = pd.DataFrame({\n",
    "    'reporterCode':[i['reporterCode'] for i in request_2019],\n",
    "    'primaryValue':[i['primaryValue'] for i in request_2019],\n",
    "    'netWgt':[i['netWgt'] for i in request_2019]\n",
    "})\n",
    "#Преобразование в датафрейм"
   ]
  },
  {
   "cell_type": "code",
   "execution_count": 10,
   "id": "cf8947ba",
   "metadata": {},
   "outputs": [],
   "source": [
    "pd.options.display.float_format ='{:,.3f}'.format #Для приятного отображения"
   ]
  },
  {
   "cell_type": "code",
   "execution_count": 11,
   "id": "68b55ed5",
   "metadata": {},
   "outputs": [
    {
     "name": "stdout",
     "output_type": "stream",
     "text": [
      "Размеры: (101, 3)\n"
     ]
    },
    {
     "data": {
      "text/html": [
       "<div>\n",
       "<style scoped>\n",
       "    .dataframe tbody tr th:only-of-type {\n",
       "        vertical-align: middle;\n",
       "    }\n",
       "\n",
       "    .dataframe tbody tr th {\n",
       "        vertical-align: top;\n",
       "    }\n",
       "\n",
       "    .dataframe thead th {\n",
       "        text-align: right;\n",
       "    }\n",
       "</style>\n",
       "<table border=\"1\" class=\"dataframe\">\n",
       "  <thead>\n",
       "    <tr style=\"text-align: right;\">\n",
       "      <th></th>\n",
       "      <th>reporterCode</th>\n",
       "      <th>primaryValue</th>\n",
       "      <th>netWgt</th>\n",
       "    </tr>\n",
       "  </thead>\n",
       "  <tbody>\n",
       "    <tr>\n",
       "      <th>0</th>\n",
       "      <td>24</td>\n",
       "      <td>31,534,121,190.558</td>\n",
       "      <td>76,402,028,259.000</td>\n",
       "    </tr>\n",
       "    <tr>\n",
       "      <th>1</th>\n",
       "      <td>31</td>\n",
       "      <td>14,814,132,708.690</td>\n",
       "      <td>30,837,085,666.000</td>\n",
       "    </tr>\n",
       "    <tr>\n",
       "      <th>2</th>\n",
       "      <td>32</td>\n",
       "      <td>1,119,911,767.130</td>\n",
       "      <td>2,615,804,000.000</td>\n",
       "    </tr>\n",
       "    <tr>\n",
       "      <th>3</th>\n",
       "      <td>36</td>\n",
       "      <td>6,566,389,781.634</td>\n",
       "      <td>NaN</td>\n",
       "    </tr>\n",
       "    <tr>\n",
       "      <th>4</th>\n",
       "      <td>52</td>\n",
       "      <td>15,100,491.000</td>\n",
       "      <td>37,600,160.000</td>\n",
       "    </tr>\n",
       "  </tbody>\n",
       "</table>\n",
       "</div>"
      ],
      "text/plain": [
       "   reporterCode       primaryValue             netWgt\n",
       "0            24 31,534,121,190.558 76,402,028,259.000\n",
       "1            31 14,814,132,708.690 30,837,085,666.000\n",
       "2            32  1,119,911,767.130  2,615,804,000.000\n",
       "3            36  6,566,389,781.634                NaN\n",
       "4            52     15,100,491.000     37,600,160.000"
      ]
     },
     "execution_count": 11,
     "metadata": {},
     "output_type": "execute_result"
    }
   ],
   "source": [
    "print(f'Размеры: {export.shape}')\n",
    "export.head(5)"
   ]
  },
  {
   "cell_type": "code",
   "execution_count": 12,
   "id": "2a1699e9",
   "metadata": {},
   "outputs": [
    {
     "name": "stdout",
     "output_type": "stream",
     "text": [
      "Раземеры (87, 4)\n"
     ]
    },
    {
     "data": {
      "text/html": [
       "<div>\n",
       "<style scoped>\n",
       "    .dataframe tbody tr th:only-of-type {\n",
       "        vertical-align: middle;\n",
       "    }\n",
       "\n",
       "    .dataframe tbody tr th {\n",
       "        vertical-align: top;\n",
       "    }\n",
       "\n",
       "    .dataframe thead th {\n",
       "        text-align: right;\n",
       "    }\n",
       "</style>\n",
       "<table border=\"1\" class=\"dataframe\">\n",
       "  <thead>\n",
       "    <tr style=\"text-align: right;\">\n",
       "      <th></th>\n",
       "      <th>primaryValue</th>\n",
       "      <th>netWgt</th>\n",
       "      <th>id</th>\n",
       "      <th>country</th>\n",
       "    </tr>\n",
       "  </thead>\n",
       "  <tbody>\n",
       "    <tr>\n",
       "      <th>79</th>\n",
       "      <td>127,284,293,029.930</td>\n",
       "      <td>271,730,227,836.430</td>\n",
       "      <td>784</td>\n",
       "      <td>United Arab Emirates</td>\n",
       "    </tr>\n",
       "    <tr>\n",
       "      <th>66</th>\n",
       "      <td>122,228,578,653.300</td>\n",
       "      <td>269,175,244,771.000</td>\n",
       "      <td>643</td>\n",
       "      <td>Russian Federation</td>\n",
       "    </tr>\n",
       "    <tr>\n",
       "      <th>14</th>\n",
       "      <td>68,100,946,475.118</td>\n",
       "      <td>145,386,082,443.058</td>\n",
       "      <td>124</td>\n",
       "      <td>Canada</td>\n",
       "    </tr>\n",
       "    <tr>\n",
       "      <th>85</th>\n",
       "      <td>65,323,191,031.000</td>\n",
       "      <td>139,455,959,545.975</td>\n",
       "      <td>842</td>\n",
       "      <td>USA</td>\n",
       "    </tr>\n",
       "    <tr>\n",
       "      <th>0</th>\n",
       "      <td>31,534,121,190.558</td>\n",
       "      <td>76,402,028,259.000</td>\n",
       "      <td>24</td>\n",
       "      <td>Angola</td>\n",
       "    </tr>\n",
       "  </tbody>\n",
       "</table>\n",
       "</div>"
      ],
      "text/plain": [
       "          primaryValue              netWgt   id               country\n",
       "79 127,284,293,029.930 271,730,227,836.430  784  United Arab Emirates\n",
       "66 122,228,578,653.300 269,175,244,771.000  643    Russian Federation\n",
       "14  68,100,946,475.118 145,386,082,443.058  124                Canada\n",
       "85  65,323,191,031.000 139,455,959,545.975  842                   USA\n",
       "0   31,534,121,190.558  76,402,028,259.000   24                Angola"
      ]
     },
     "execution_count": 12,
     "metadata": {},
     "output_type": "execute_result"
    }
   ],
   "source": [
    "export.dropna(inplace=True)\n",
    "\n",
    "export_unique = (export\n",
    " .merge(country,how='left',left_on = 'reporterCode',right_on = 'id')\n",
    " .drop(['reporterCode'],axis = 1)\n",
    " .sort_values(by = 'netWgt',ascending=False))\n",
    "\n",
    "\n",
    "print(f'Раземеры {export_unique.shape}')\n",
    "export_unique.head(5)"
   ]
  },
  {
   "cell_type": "code",
   "execution_count": 13,
   "id": "0256ad03",
   "metadata": {},
   "outputs": [],
   "source": [
    "export_unique['id'] = export_unique['id'].astype(int)"
   ]
  },
  {
   "cell_type": "code",
   "execution_count": 14,
   "id": "20f98bb5",
   "metadata": {},
   "outputs": [
    {
     "data": {
      "text/plain": [
       "[784, 643, 124, 842]"
      ]
     },
     "execution_count": 14,
     "metadata": {},
     "output_type": "execute_result"
    }
   ],
   "source": [
    "index = list(export_unique.sort_values(by = 'netWgt',ascending=False).head(50)['id'])\n",
    "index[:4]"
   ]
  },
  {
   "cell_type": "markdown",
   "id": "c0a58ef7",
   "metadata": {},
   "source": [
    "Ну вроде похоже на правду "
   ]
  },
  {
   "cell_type": "markdown",
   "id": "064cbdcd",
   "metadata": {},
   "source": [
    "# Экспорт 2023"
   ]
  },
  {
   "cell_type": "code",
   "execution_count": 15,
   "id": "b5149968",
   "metadata": {},
   "outputs": [],
   "source": [
    "parametrs_2023 = params(2023,0,'X','TOTAL')"
   ]
  },
  {
   "cell_type": "code",
   "execution_count": 16,
   "id": "9e49ddc7",
   "metadata": {},
   "outputs": [],
   "source": [
    "request_2023_exp = requests.get(links,params= parametrs_2023).json()\n",
    "request_2023_exp = request_2023_exp['data']\n",
    "time.sleep(10)"
   ]
  },
  {
   "cell_type": "code",
   "execution_count": 17,
   "id": "2cfca247",
   "metadata": {},
   "outputs": [
    {
     "data": {
      "text/html": [
       "<div>\n",
       "<style scoped>\n",
       "    .dataframe tbody tr th:only-of-type {\n",
       "        vertical-align: middle;\n",
       "    }\n",
       "\n",
       "    .dataframe tbody tr th {\n",
       "        vertical-align: top;\n",
       "    }\n",
       "\n",
       "    .dataframe thead th {\n",
       "        text-align: right;\n",
       "    }\n",
       "</style>\n",
       "<table border=\"1\" class=\"dataframe\">\n",
       "  <thead>\n",
       "    <tr style=\"text-align: right;\">\n",
       "      <th></th>\n",
       "      <th>reporterCode</th>\n",
       "      <th>primaryValue</th>\n",
       "    </tr>\n",
       "  </thead>\n",
       "  <tbody>\n",
       "    <tr>\n",
       "      <th>0</th>\n",
       "      <td>20</td>\n",
       "      <td>252,365,105.054</td>\n",
       "    </tr>\n",
       "    <tr>\n",
       "      <th>1</th>\n",
       "      <td>28</td>\n",
       "      <td>30,496,874.225</td>\n",
       "    </tr>\n",
       "    <tr>\n",
       "      <th>2</th>\n",
       "      <td>31</td>\n",
       "      <td>33,898,554,855.280</td>\n",
       "    </tr>\n",
       "    <tr>\n",
       "      <th>3</th>\n",
       "      <td>32</td>\n",
       "      <td>66,788,515,986.350</td>\n",
       "    </tr>\n",
       "    <tr>\n",
       "      <th>4</th>\n",
       "      <td>36</td>\n",
       "      <td>369,235,124,159.052</td>\n",
       "    </tr>\n",
       "  </tbody>\n",
       "</table>\n",
       "</div>"
      ],
      "text/plain": [
       "   reporterCode        primaryValue\n",
       "0            20     252,365,105.054\n",
       "1            28      30,496,874.225\n",
       "2            31  33,898,554,855.280\n",
       "3            32  66,788,515,986.350\n",
       "4            36 369,235,124,159.052"
      ]
     },
     "execution_count": 17,
     "metadata": {},
     "output_type": "execute_result"
    }
   ],
   "source": [
    "export_2023 = pd.DataFrame({\n",
    "    'reporterCode':[i['reporterCode'] for i in request_2023_exp],\n",
    "    'primaryValue':[i['primaryValue'] for i in request_2023_exp]\n",
    "})\n",
    "export_2023.head(5)"
   ]
  },
  {
   "cell_type": "code",
   "execution_count": 18,
   "id": "1f1e74c7",
   "metadata": {},
   "outputs": [
    {
     "name": "stdout",
     "output_type": "stream",
     "text": [
      "Размеры (31, 2)\n"
     ]
    },
    {
     "data": {
      "text/html": [
       "<div>\n",
       "<style scoped>\n",
       "    .dataframe tbody tr th:only-of-type {\n",
       "        vertical-align: middle;\n",
       "    }\n",
       "\n",
       "    .dataframe tbody tr th {\n",
       "        vertical-align: top;\n",
       "    }\n",
       "\n",
       "    .dataframe thead th {\n",
       "        text-align: right;\n",
       "    }\n",
       "</style>\n",
       "<table border=\"1\" class=\"dataframe\">\n",
       "  <thead>\n",
       "    <tr style=\"text-align: right;\">\n",
       "      <th></th>\n",
       "      <th>reporterCode</th>\n",
       "      <th>primaryValue</th>\n",
       "    </tr>\n",
       "  </thead>\n",
       "  <tbody>\n",
       "    <tr>\n",
       "      <th>2</th>\n",
       "      <td>31</td>\n",
       "      <td>33,898,554,855.280</td>\n",
       "    </tr>\n",
       "    <tr>\n",
       "      <th>3</th>\n",
       "      <td>32</td>\n",
       "      <td>66,788,515,986.350</td>\n",
       "    </tr>\n",
       "    <tr>\n",
       "      <th>8</th>\n",
       "      <td>52</td>\n",
       "      <td>475,842,549.000</td>\n",
       "    </tr>\n",
       "    <tr>\n",
       "      <th>14</th>\n",
       "      <td>84</td>\n",
       "      <td>253,373,381.831</td>\n",
       "    </tr>\n",
       "    <tr>\n",
       "      <th>15</th>\n",
       "      <td>96</td>\n",
       "      <td>11,240,624,705.271</td>\n",
       "    </tr>\n",
       "  </tbody>\n",
       "</table>\n",
       "</div>"
      ],
      "text/plain": [
       "    reporterCode       primaryValue\n",
       "2             31 33,898,554,855.280\n",
       "3             32 66,788,515,986.350\n",
       "8             52    475,842,549.000\n",
       "14            84    253,373,381.831\n",
       "15            96 11,240,624,705.271"
      ]
     },
     "execution_count": 18,
     "metadata": {},
     "output_type": "execute_result"
    }
   ],
   "source": [
    "export_unique_2023 = export_2023[export_2023['reporterCode'].isin(index)]\n",
    "print(f'Размеры {export_unique_2023.shape}')\n",
    "export_unique_2023.head(5)"
   ]
  },
  {
   "cell_type": "code",
   "execution_count": 19,
   "id": "397b7eda",
   "metadata": {},
   "outputs": [
    {
     "data": {
      "text/html": [
       "<div>\n",
       "<style scoped>\n",
       "    .dataframe tbody tr th:only-of-type {\n",
       "        vertical-align: middle;\n",
       "    }\n",
       "\n",
       "    .dataframe tbody tr th {\n",
       "        vertical-align: top;\n",
       "    }\n",
       "\n",
       "    .dataframe thead th {\n",
       "        text-align: right;\n",
       "    }\n",
       "</style>\n",
       "<table border=\"1\" class=\"dataframe\">\n",
       "  <thead>\n",
       "    <tr style=\"text-align: right;\">\n",
       "      <th></th>\n",
       "      <th>reporterCode</th>\n",
       "      <th>primaryValue</th>\n",
       "      <th>country</th>\n",
       "      <th>export_cherez_drug_stran</th>\n",
       "    </tr>\n",
       "  </thead>\n",
       "  <tbody>\n",
       "    <tr>\n",
       "      <th>0</th>\n",
       "      <td>31</td>\n",
       "      <td>33,898,554,855.280</td>\n",
       "      <td>Azerbaijan</td>\n",
       "      <td>0.000</td>\n",
       "    </tr>\n",
       "    <tr>\n",
       "      <th>1</th>\n",
       "      <td>32</td>\n",
       "      <td>66,788,515,986.350</td>\n",
       "      <td>Argentina</td>\n",
       "      <td>0.000</td>\n",
       "    </tr>\n",
       "    <tr>\n",
       "      <th>2</th>\n",
       "      <td>52</td>\n",
       "      <td>475,842,549.000</td>\n",
       "      <td>Barbados</td>\n",
       "      <td>0.000</td>\n",
       "    </tr>\n",
       "    <tr>\n",
       "      <th>3</th>\n",
       "      <td>84</td>\n",
       "      <td>253,373,381.831</td>\n",
       "      <td>Belize</td>\n",
       "      <td>0.000</td>\n",
       "    </tr>\n",
       "    <tr>\n",
       "      <th>4</th>\n",
       "      <td>96</td>\n",
       "      <td>11,240,624,705.271</td>\n",
       "      <td>Brunei Darussalam</td>\n",
       "      <td>0.000</td>\n",
       "    </tr>\n",
       "  </tbody>\n",
       "</table>\n",
       "</div>"
      ],
      "text/plain": [
       "   reporterCode       primaryValue            country  \\\n",
       "0            31 33,898,554,855.280         Azerbaijan   \n",
       "1            32 66,788,515,986.350          Argentina   \n",
       "2            52    475,842,549.000           Barbados   \n",
       "3            84    253,373,381.831             Belize   \n",
       "4            96 11,240,624,705.271  Brunei Darussalam   \n",
       "\n",
       "   export_cherez_drug_stran  \n",
       "0                     0.000  \n",
       "1                     0.000  \n",
       "2                     0.000  \n",
       "3                     0.000  \n",
       "4                     0.000  "
      ]
     },
     "execution_count": 19,
     "metadata": {},
     "output_type": "execute_result"
    }
   ],
   "source": [
    "export_val_2023 = (export_unique_2023\n",
    "              .merge(country,how ='left',left_on = 'reporterCode',right_on='id')\n",
    "              .drop(['id'],axis = 1))\n",
    "export_val_2023['export_cherez_drug_stran'] = 0.0\n",
    "export_val_2023.head(5)"
   ]
  },
  {
   "cell_type": "markdown",
   "id": "ee29d583",
   "metadata": {},
   "source": [
    "Это точно правильные данные, проверил на этом сайте:https://trendeconomy.ru/"
   ]
  },
  {
   "cell_type": "code",
   "execution_count": 20,
   "id": "3666c169",
   "metadata": {},
   "outputs": [],
   "source": [
    "export_val_index = export_val_2023['reporterCode']"
   ]
  },
  {
   "cell_type": "markdown",
   "id": "f3385973",
   "metadata": {},
   "source": [
    "Есть проблема в том, что в 2023 нет данных экспорта 19 стран из нашего топа."
   ]
  },
  {
   "cell_type": "markdown",
   "id": "f2dd5829",
   "metadata": {},
   "source": [
    "Проверим это на Саудовской Аравии"
   ]
  },
  {
   "cell_type": "code",
   "execution_count": 21,
   "id": "8fc56679",
   "metadata": {},
   "outputs": [
    {
     "data": {
      "text/html": [
       "<div>\n",
       "<style scoped>\n",
       "    .dataframe tbody tr th:only-of-type {\n",
       "        vertical-align: middle;\n",
       "    }\n",
       "\n",
       "    .dataframe tbody tr th {\n",
       "        vertical-align: top;\n",
       "    }\n",
       "\n",
       "    .dataframe thead th {\n",
       "        text-align: right;\n",
       "    }\n",
       "</style>\n",
       "<table border=\"1\" class=\"dataframe\">\n",
       "  <thead>\n",
       "    <tr style=\"text-align: right;\">\n",
       "      <th></th>\n",
       "      <th>reporterCode</th>\n",
       "      <th>primaryValue</th>\n",
       "    </tr>\n",
       "  </thead>\n",
       "  <tbody>\n",
       "  </tbody>\n",
       "</table>\n",
       "</div>"
      ],
      "text/plain": [
       "Empty DataFrame\n",
       "Columns: [reporterCode, primaryValue]\n",
       "Index: []"
      ]
     },
     "execution_count": 21,
     "metadata": {},
     "output_type": "execute_result"
    }
   ],
   "source": [
    "export_2023[export_2023['reporterCode'] == 784]"
   ]
  },
  {
   "cell_type": "markdown",
   "id": "dbf5a423",
   "metadata": {},
   "source": [
    "Оставлю все как есть"
   ]
  },
  {
   "cell_type": "markdown",
   "id": "8e2315d7",
   "metadata": {},
   "source": [
    "# Запросы для зеркального экспорта"
   ]
  },
  {
   "cell_type": "code",
   "execution_count": 22,
   "id": "14aba7a4",
   "metadata": {},
   "outputs": [],
   "source": [
    "def get(links,params, index):\n",
    "    request = requests.get(links,params = params)\n",
    "    if request.ok:\n",
    "        print(f'Информация предоставлена для id: {index}')\n",
    "        return request\n",
    "    else:\n",
    "        print('Ошибка')"
   ]
  },
  {
   "cell_type": "code",
   "execution_count": 23,
   "id": "2a5b048f",
   "metadata": {},
   "outputs": [],
   "source": [
    "def get_data(request):\n",
    "    country_imp = request.json()['data']\n",
    "    country_import =pd.DataFrame({\n",
    "    'reporterCode':[i['reporterCode'] for i in country_imp],\n",
    "    'partnerCode':[i['partnerCode'] for i in country_imp],\n",
    "    'primaryValue':[i['primaryValue'] for i in country_imp]\n",
    "    })\n",
    "    return country_import\n",
    "    "
   ]
  },
  {
   "cell_type": "code",
   "execution_count": 24,
   "id": "a55df9f1",
   "metadata": {},
   "outputs": [],
   "source": [
    "def preprocessing_data(country_import,export_val_2023,index):\n",
    "    country_import.drop_duplicates(subset = 'reporterCode',inplace=True)\n",
    "    if (country_import['reporterCode'] == index).sum() !=0:\n",
    "        summary =country_import.primaryValue.sum()- country_import[country_import['reporterCode'] == index].primaryValue.iloc[0]\n",
    "    else:\n",
    "        summary =country_import.primaryValue.sum()\n",
    "    export_val_2023.loc[export_val_2023.reporterCode == index,'export_cherez_drug_stran'] = summary  \n",
    "    return export_val_2023"
   ]
  },
  {
   "cell_type": "code",
   "execution_count": 25,
   "id": "8524ae78",
   "metadata": {},
   "outputs": [
    {
     "name": "stdout",
     "output_type": "stream",
     "text": [
      "Информация предоставлена для id: 31\n",
      "Информация предоставлена для id: 32\n",
      "Информация предоставлена для id: 52\n",
      "Информация предоставлена для id: 84\n",
      "Информация предоставлена для id: 96\n",
      "Информация предоставлена для id: 104\n",
      "Информация предоставлена для id: 124\n",
      "Информация предоставлена для id: 156\n",
      "Информация предоставлена для id: 170\n",
      "Информация предоставлена для id: 191\n",
      "Информация предоставлена для id: 208\n",
      "Информация предоставлена для id: 276\n",
      "Информация предоставлена для id: 288\n",
      "Информация предоставлена для id: 348\n",
      "Информация предоставлена для id: 380\n",
      "Информация предоставлена для id: 398\n",
      "Информация предоставлена для id: 417\n",
      "Информация предоставлена для id: 440\n",
      "Информация предоставлена для id: 458\n",
      "Информация предоставлена для id: 484\n",
      "Информация предоставлена для id: 528\n",
      "Информация предоставлена для id: 554\n",
      "Информация предоставлена для id: 579\n",
      "Информация предоставлена для id: 586\n",
      "Информация предоставлена для id: 608\n",
      "Информация предоставлена для id: 616\n",
      "Информация предоставлена для id: 642\n",
      "Информация предоставлена для id: 703\n",
      "Информация предоставлена для id: 752\n",
      "Информация предоставлена для id: 818\n",
      "Информация предоставлена для id: 842\n"
     ]
    }
   ],
   "source": [
    "for index in export_val_index:\n",
    "    ################################## ЗАПРОС\n",
    "    parametrs_zer = params(2023,index,'M','TOTAL')\n",
    "    \n",
    "    request = get(links,parametrs_zer,index)\n",
    "    \n",
    "    ################################ Выгрузка\n",
    "    country_import =get_data(request) \n",
    "    \n",
    "    ################################# Обработка\n",
    "    export_val_2023 = preprocessing_data(country_import=country_import,export_val_2023 = export_val_2023,index =index)\n",
    "    \n",
    "    time.sleep(10)\n",
    "    \n",
    "    "
   ]
  },
  {
   "cell_type": "code",
   "execution_count": 27,
   "id": "8a21c0c4",
   "metadata": {},
   "outputs": [
    {
     "data": {
      "text/html": [
       "<div>\n",
       "<style scoped>\n",
       "    .dataframe tbody tr th:only-of-type {\n",
       "        vertical-align: middle;\n",
       "    }\n",
       "\n",
       "    .dataframe tbody tr th {\n",
       "        vertical-align: top;\n",
       "    }\n",
       "\n",
       "    .dataframe thead th {\n",
       "        text-align: right;\n",
       "    }\n",
       "</style>\n",
       "<table border=\"1\" class=\"dataframe\">\n",
       "  <thead>\n",
       "    <tr style=\"text-align: right;\">\n",
       "      <th></th>\n",
       "      <th>reporterCode</th>\n",
       "      <th>primaryValue</th>\n",
       "      <th>country</th>\n",
       "      <th>export_cherez_drug_stran</th>\n",
       "      <th>delta</th>\n",
       "    </tr>\n",
       "  </thead>\n",
       "  <tbody>\n",
       "    <tr>\n",
       "      <th>22</th>\n",
       "      <td>579</td>\n",
       "      <td>176,896,550,418.728</td>\n",
       "      <td>Norway</td>\n",
       "      <td>166,341,852,056.203</td>\n",
       "      <td>10,554,698,362.525</td>\n",
       "    </tr>\n",
       "    <tr>\n",
       "      <th>29</th>\n",
       "      <td>818</td>\n",
       "      <td>42,051,584,005.016</td>\n",
       "      <td>Egypt</td>\n",
       "      <td>30,234,200,687.869</td>\n",
       "      <td>11,817,383,317.147</td>\n",
       "    </tr>\n",
       "    <tr>\n",
       "      <th>28</th>\n",
       "      <td>752</td>\n",
       "      <td>197,797,041,971.715</td>\n",
       "      <td>Sweden</td>\n",
       "      <td>179,732,193,855.566</td>\n",
       "      <td>18,064,848,116.149</td>\n",
       "    </tr>\n",
       "    <tr>\n",
       "      <th>10</th>\n",
       "      <td>208</td>\n",
       "      <td>136,074,397,804.553</td>\n",
       "      <td>Denmark</td>\n",
       "      <td>112,499,009,806.473</td>\n",
       "      <td>23,575,387,998.080</td>\n",
       "    </tr>\n",
       "    <tr>\n",
       "      <th>25</th>\n",
       "      <td>616</td>\n",
       "      <td>354,667,456,455.000</td>\n",
       "      <td>Poland</td>\n",
       "      <td>321,196,538,800.192</td>\n",
       "      <td>33,470,917,654.808</td>\n",
       "    </tr>\n",
       "    <tr>\n",
       "      <th>14</th>\n",
       "      <td>380</td>\n",
       "      <td>677,095,229,000.932</td>\n",
       "      <td>Italy</td>\n",
       "      <td>592,645,232,418.335</td>\n",
       "      <td>84,449,996,582.597</td>\n",
       "    </tr>\n",
       "    <tr>\n",
       "      <th>20</th>\n",
       "      <td>528</td>\n",
       "      <td>741,804,035,403.598</td>\n",
       "      <td>Netherlands</td>\n",
       "      <td>569,017,502,875.314</td>\n",
       "      <td>172,786,532,528.284</td>\n",
       "    </tr>\n",
       "    <tr>\n",
       "      <th>11</th>\n",
       "      <td>276</td>\n",
       "      <td>1,697,350,367,390.709</td>\n",
       "      <td>Germany</td>\n",
       "      <td>1,471,745,313,673.834</td>\n",
       "      <td>225,605,053,716.875</td>\n",
       "    </tr>\n",
       "    <tr>\n",
       "      <th>30</th>\n",
       "      <td>842</td>\n",
       "      <td>2,018,542,583,771.000</td>\n",
       "      <td>USA</td>\n",
       "      <td>1,661,334,465,927.838</td>\n",
       "      <td>357,208,117,843.162</td>\n",
       "    </tr>\n",
       "    <tr>\n",
       "      <th>7</th>\n",
       "      <td>156</td>\n",
       "      <td>3,379,747,834,884.000</td>\n",
       "      <td>China</td>\n",
       "      <td>2,473,451,710,399.685</td>\n",
       "      <td>906,296,124,484.315</td>\n",
       "    </tr>\n",
       "  </tbody>\n",
       "</table>\n",
       "</div>"
      ],
      "text/plain": [
       "    reporterCode          primaryValue      country  export_cherez_drug_stran  \\\n",
       "22           579   176,896,550,418.728       Norway       166,341,852,056.203   \n",
       "29           818    42,051,584,005.016        Egypt        30,234,200,687.869   \n",
       "28           752   197,797,041,971.715       Sweden       179,732,193,855.566   \n",
       "10           208   136,074,397,804.553      Denmark       112,499,009,806.473   \n",
       "25           616   354,667,456,455.000       Poland       321,196,538,800.192   \n",
       "14           380   677,095,229,000.932        Italy       592,645,232,418.335   \n",
       "20           528   741,804,035,403.598  Netherlands       569,017,502,875.314   \n",
       "11           276 1,697,350,367,390.709      Germany     1,471,745,313,673.834   \n",
       "30           842 2,018,542,583,771.000          USA     1,661,334,465,927.838   \n",
       "7            156 3,379,747,834,884.000        China     2,473,451,710,399.685   \n",
       "\n",
       "                 delta  \n",
       "22  10,554,698,362.525  \n",
       "29  11,817,383,317.147  \n",
       "28  18,064,848,116.149  \n",
       "10  23,575,387,998.080  \n",
       "25  33,470,917,654.808  \n",
       "14  84,449,996,582.597  \n",
       "20 172,786,532,528.284  \n",
       "11 225,605,053,716.875  \n",
       "30 357,208,117,843.162  \n",
       "7  906,296,124,484.315  "
      ]
     },
     "execution_count": 27,
     "metadata": {},
     "output_type": "execute_result"
    }
   ],
   "source": [
    "# Топ 10 стран по разнице\n",
    "export_val_2023['delta'] = export_val_2023['primaryValue'] - export_val_2023['export_cherez_drug_stran']\n",
    "sort_zerkal = (export_val_2023\n",
    "               .sort_values(by='delta',ascending=False)\n",
    "               .head(10)\n",
    "               .sort_values(by='delta'))\n",
    "sort_zerkal.head(10)"
   ]
  },
  {
   "cell_type": "code",
   "execution_count": 28,
   "id": "2077fa14",
   "metadata": {},
   "outputs": [
    {
     "data": {
      "image/png": "[encoded data removed]",
      "text/plain": [
       "<Figure size 800x600 with 1 Axes>"
      ]
     },
     "metadata": {},
     "output_type": "display_data"
    }
   ],
   "source": [
    "fig, ax = plt.subplots(dpi = 125)\n",
    "ax.spines['top'].set_visible(False)\n",
    "ax.spines['right'].set_visible(False)\n",
    "\n",
    "ax.set_title('Топ стран по разнице между экспортом и зеркальным экспортом\\n',loc='left')\n",
    "ax.barh(y = sort_zerkal.country,width = sort_zerkal.delta,height=0.95, zorder=1000, alpha=0.5)\n",
    "# добавляем лейблы для осей\n",
    "ax.set_xlabel('Разница между экспортом и зеркальным экспортом')\n",
    "# добавляем сетку\n",
    "ax.grid(color='lightgrey', axis='x', zorder=1)"
   ]
  },
  {
   "cell_type": "markdown",
   "id": "cbe6155d",
   "metadata": {},
   "source": [
    "# Почему так может происходить?\n",
    "\n",
    "- Отсутствие данных по некоторым странам: Например, по России и Саудовской Аравии. Это отсутствие данных приводит к занижению экспорта, который мы рассчитываем зеркальным способом.\n",
    "\n",
    "- Теневой сектор: Некоторые страны или компании могут намеренно завышать или занижать стоимость товаров для уменьшения налогов, что в свою очередь создаёт разницу между экспортом и зеркальным экспортом."
   ]
  }
 ],
 "metadata": {
  "kernelspec": {
   "display_name": "Python 3 (ipykernel)",
   "language": "python",
   "name": "python3"
  },
  "language_info": {
   "codemirror_mode": {
    "name": "ipython",
    "version": 3
   },
   "file_extension": ".py",
   "mimetype": "text/x-python",
   "name": "python",
   "nbconvert_exporter": "python",
   "pygments_lexer": "ipython3",
   "version": "3.11.5"
  }
 },
 "nbformat": 4,
 "nbformat_minor": 5
}
