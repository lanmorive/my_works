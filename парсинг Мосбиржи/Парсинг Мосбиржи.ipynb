{
 "cells": [
  {
   "cell_type": "code",
   "execution_count": 4,
   "id": "4b42a7f4",
   "metadata": {},
   "outputs": [],
   "source": [
    "import requests\n",
    "import pandas as pd\n",
    "import matplotlib.pyplot as plt\n",
    "import seaborn as sns\n",
    "from datetime import timedelta\n",
    "from datetime import datetime\n",
    "import os\n",
    "import time\n",
    "pd.options.display.float_format ='{:,.3f}'.format"
   ]
  },
  {
   "cell_type": "markdown",
   "id": "aa274558",
   "metadata": {},
   "source": [
    "# Парсинг Мосбиржи"
   ]
  },
  {
   "cell_type": "markdown",
   "id": "d11670c7",
   "metadata": {},
   "source": [
    "- Взять топ 50 компаний по рыночной капитализации (цена акции * количество акций ~ стоимость компании)\n",
    "- Получить данные по стоимости акций каждой компании (ежедневные значения, с 2015 года)\n",
    "- Получить данные по индексу мосбиржи (с 2015 года)\n",
    "- Отсортировать компании по корреляции стоимости их акции и индекса мосбиржи\n",
    "- Посчитать корреляцию для некоторых (на ваше усмотрение) с лаггом: (индекс мосбиржи месяц назад <-> ценой акции сейчас)"
   ]
  },
  {
   "cell_type": "markdown",
   "id": "6fb89aa6",
   "metadata": {},
   "source": [
    "# Топ 50 компаний по рыночной капитализации"
   ]
  },
  {
   "cell_type": "code",
   "execution_count": 5,
   "id": "3ece0ebb",
   "metadata": {},
   "outputs": [],
   "source": [
    "base_url = 'https://iss.moex.com/iss/engines/stock/markets/shares/boards/TQBR/securities.json'"
   ]
  },
  {
   "cell_type": "code",
   "execution_count": 6,
   "id": "808501be",
   "metadata": {},
   "outputs": [],
   "source": [
    "kapital = requests.get(base_url)"
   ]
  },
  {
   "cell_type": "code",
   "execution_count": 7,
   "id": "f188dd8e",
   "metadata": {},
   "outputs": [],
   "source": [
    "columns = kapital.json()['securities']['columns']"
   ]
  },
  {
   "cell_type": "code",
   "execution_count": 8,
   "id": "b0cd6f20",
   "metadata": {},
   "outputs": [],
   "source": [
    "info = kapital.json()['securities']['data']"
   ]
  },
  {
   "cell_type": "code",
   "execution_count": 10,
   "id": "6d64a6ca",
   "metadata": {},
   "outputs": [
    {
     "data": {
      "text/plain": [
       "['ABIO',\n",
       " 'TQBR',\n",
       " 'iАРТГЕН ао',\n",
       " 85.62,\n",
       " 10,\n",
       " 0.1,\n",
       " 'A',\n",
       " 'Т+: Акции и ДР - безадрес.',\n",
       " 2,\n",
       " 'ПАО \"Артген\"',\n",
       " None,\n",
       " 'FNDT',\n",
       " 'EQIN',\n",
       " None,\n",
       " 0.02,\n",
       " 85.9,\n",
       " 'SUR',\n",
       " '2024-08-01',\n",
       " 92645451,\n",
       " 'RU000A0JNAB6',\n",
       " 'ARTGEN ao',\n",
       " '1-01-08902-A',\n",
       " 85.76,\n",
       " 'SUR',\n",
       " '1',\n",
       " 2,\n",
       " '2024-08-05']"
      ]
     },
     "execution_count": 10,
     "metadata": {},
     "output_type": "execute_result"
    }
   ],
   "source": [
    "#Было\n",
    "info[0]"
   ]
  },
  {
   "cell_type": "code",
   "execution_count": 112,
   "id": "63c96ee6",
   "metadata": {},
   "outputs": [],
   "source": [
    "our_comp = []\n",
    "for i in info:\n",
    "    dannie = dict()\n",
    "    for j in range(len(columns)):\n",
    "        dannie[columns[j]] = i[j]\n",
    "    our_comp.append(dannie)\n",
    "#Преобразовываем в список"
   ]
  },
  {
   "cell_type": "code",
   "execution_count": 115,
   "id": "6ed77fa4",
   "metadata": {},
   "outputs": [
    {
     "data": {
      "text/plain": [
       "{'SECID': 'ABIO',\n",
       " 'BOARDID': 'TQBR',\n",
       " 'SHORTNAME': 'iАРТГЕН ао',\n",
       " 'PREVPRICE': 85.66,\n",
       " 'LOTSIZE': 10,\n",
       " 'FACEVALUE': 0.1,\n",
       " 'STATUS': 'A',\n",
       " 'BOARDNAME': 'Т+: Акции и ДР - безадрес.',\n",
       " 'DECIMALS': 2,\n",
       " 'SECNAME': 'ПАО \"Артген\"',\n",
       " 'REMARKS': None,\n",
       " 'MARKETCODE': 'FNDT',\n",
       " 'INSTRID': 'EQIN',\n",
       " 'SECTORID': None,\n",
       " 'MINSTEP': 0.02,\n",
       " 'PREVWAPRICE': 85.24,\n",
       " 'FACEUNIT': 'SUR',\n",
       " 'PREVDATE': '2024-07-31',\n",
       " 'ISSUESIZE': 92645451,\n",
       " 'ISIN': 'RU000A0JNAB6',\n",
       " 'LATNAME': 'ARTGEN ao',\n",
       " 'REGNUMBER': '1-01-08902-A',\n",
       " 'PREVLEGALCLOSEPRICE': 85.14,\n",
       " 'CURRENCYID': 'SUR',\n",
       " 'SECTYPE': '1',\n",
       " 'LISTLEVEL': 2,\n",
       " 'SETTLEDATE': '2024-08-02'}"
      ]
     },
     "execution_count": 115,
     "metadata": {},
     "output_type": "execute_result"
    }
   ],
   "source": [
    "#Стало\n",
    "our_comp[0]"
   ]
  },
  {
   "cell_type": "code",
   "execution_count": 8,
   "id": "100e4fe4",
   "metadata": {},
   "outputs": [],
   "source": [
    "stock = pd.DataFrame({\n",
    "    'SECID': [stocks['SECID'] for stocks in our_comp],\n",
    "    'NAME': [stocks['SHORTNAME'] for stocks in our_comp],\n",
    "    'Market_Cap': [(stocks['PREVPRICE'] if stocks['PREVPRICE'] != None else 0) * (stocks['ISSUESIZE'] if stocks['ISSUESIZE'] != None else 0) for stocks in our_comp] #Тут считаем капитализацию\n",
    "})\n",
    "#Создаем датафрейм"
   ]
  },
  {
   "cell_type": "code",
   "execution_count": 9,
   "id": "f1c58bb3",
   "metadata": {},
   "outputs": [],
   "source": [
    "top_50 = stock.sort_values(by='Market_Cap',ascending=False).head(50) #Наш топ 50"
   ]
  },
  {
   "cell_type": "code",
   "execution_count": 116,
   "id": "193233df",
   "metadata": {},
   "outputs": [
    {
     "data": {
      "text/html": [
       "<div>\n",
       "<style scoped>\n",
       "    .dataframe tbody tr th:only-of-type {\n",
       "        vertical-align: middle;\n",
       "    }\n",
       "\n",
       "    .dataframe tbody tr th {\n",
       "        vertical-align: top;\n",
       "    }\n",
       "\n",
       "    .dataframe thead th {\n",
       "        text-align: right;\n",
       "    }\n",
       "</style>\n",
       "<table border=\"1\" class=\"dataframe\">\n",
       "  <thead>\n",
       "    <tr style=\"text-align: right;\">\n",
       "      <th></th>\n",
       "      <th>SECID</th>\n",
       "      <th>NAME</th>\n",
       "      <th>Market_Cap</th>\n",
       "    </tr>\n",
       "  </thead>\n",
       "  <tbody>\n",
       "    <tr>\n",
       "      <th>183</th>\n",
       "      <td>SBER</td>\n",
       "      <td>Сбербанк</td>\n",
       "      <td>6,245,104,056,400.000</td>\n",
       "    </tr>\n",
       "    <tr>\n",
       "      <th>169</th>\n",
       "      <td>ROSN</td>\n",
       "      <td>Роснефть</td>\n",
       "      <td>5,468,129,844,681.150</td>\n",
       "    </tr>\n",
       "    <tr>\n",
       "      <th>96</th>\n",
       "      <td>LKOH</td>\n",
       "      <td>ЛУКОЙЛ</td>\n",
       "      <td>4,683,426,118,239.000</td>\n",
       "    </tr>\n",
       "    <tr>\n",
       "      <th>188</th>\n",
       "      <td>SIBN</td>\n",
       "      <td>Газпрнефть</td>\n",
       "      <td>3,247,079,057,769.150</td>\n",
       "    </tr>\n",
       "    <tr>\n",
       "      <th>145</th>\n",
       "      <td>NVTK</td>\n",
       "      <td>Новатэк ао</td>\n",
       "      <td>3,168,688,941,600.000</td>\n",
       "    </tr>\n",
       "    <tr>\n",
       "      <th>50</th>\n",
       "      <td>GAZP</td>\n",
       "      <td>ГАЗПРОМ ао</td>\n",
       "      <td>3,155,916,004,699.000</td>\n",
       "    </tr>\n",
       "    <tr>\n",
       "      <th>58</th>\n",
       "      <td>GMKN</td>\n",
       "      <td>ГМКНорНик</td>\n",
       "      <td>1,989,669,975,352.000</td>\n",
       "    </tr>\n",
       "    <tr>\n",
       "      <th>152</th>\n",
       "      <td>PLZL</td>\n",
       "      <td>Полюс</td>\n",
       "      <td>1,759,309,307,300.000</td>\n",
       "    </tr>\n",
       "    <tr>\n",
       "      <th>243</th>\n",
       "      <td>YDEX</td>\n",
       "      <td>ЯНДЕКС</td>\n",
       "      <td>1,476,834,170,140.000</td>\n",
       "    </tr>\n",
       "    <tr>\n",
       "      <th>203</th>\n",
       "      <td>TATN</td>\n",
       "      <td>Татнфт 3ао</td>\n",
       "      <td>1,391,747,619,160.000</td>\n",
       "    </tr>\n",
       "    <tr>\n",
       "      <th>27</th>\n",
       "      <td>CHMF</td>\n",
       "      <td>СевСт-ао</td>\n",
       "      <td>1,192,408,740,644.000</td>\n",
       "    </tr>\n",
       "    <tr>\n",
       "      <th>191</th>\n",
       "      <td>SNGS</td>\n",
       "      <td>Сургнфгз</td>\n",
       "      <td>996,397,992,322.450</td>\n",
       "    </tr>\n",
       "    <tr>\n",
       "      <th>140</th>\n",
       "      <td>NLMK</td>\n",
       "      <td>НЛМК ао</td>\n",
       "      <td>994,276,399,116.000</td>\n",
       "    </tr>\n",
       "    <tr>\n",
       "      <th>52</th>\n",
       "      <td>GAZT</td>\n",
       "      <td>ГАЗ-Тек ао</td>\n",
       "      <td>819,813,813,700.000</td>\n",
       "    </tr>\n",
       "    <tr>\n",
       "      <th>150</th>\n",
       "      <td>PHOR</td>\n",
       "      <td>ФосАгро ао</td>\n",
       "      <td>727,531,000,000.000</td>\n",
       "    </tr>\n",
       "    <tr>\n",
       "      <th>67</th>\n",
       "      <td>IRKT</td>\n",
       "      <td>Яковлев-3</td>\n",
       "      <td>628,145,199,216.250</td>\n",
       "    </tr>\n",
       "    <tr>\n",
       "      <th>111</th>\n",
       "      <td>MGNT</td>\n",
       "      <td>Магнит ао</td>\n",
       "      <td>586,041,246,927.500</td>\n",
       "    </tr>\n",
       "    <tr>\n",
       "      <th>105</th>\n",
       "      <td>MAGN</td>\n",
       "      <td>ММК</td>\n",
       "      <td>568,158,808,850.000</td>\n",
       "    </tr>\n",
       "    <tr>\n",
       "      <th>6</th>\n",
       "      <td>AKRN</td>\n",
       "      <td>Акрон</td>\n",
       "      <td>558,708,771,200.000</td>\n",
       "    </tr>\n",
       "    <tr>\n",
       "      <th>176</th>\n",
       "      <td>RUAL</td>\n",
       "      <td>РУСАЛ ао</td>\n",
       "      <td>528,792,882,271.910</td>\n",
       "    </tr>\n",
       "    <tr>\n",
       "      <th>117</th>\n",
       "      <td>MOEX</td>\n",
       "      <td>МосБиржа</td>\n",
       "      <td>527,464,981,833.180</td>\n",
       "    </tr>\n",
       "    <tr>\n",
       "      <th>238</th>\n",
       "      <td>VTBR</td>\n",
       "      <td>ВТБ ао</td>\n",
       "      <td>525,286,933,413.260</td>\n",
       "    </tr>\n",
       "    <tr>\n",
       "      <th>205</th>\n",
       "      <td>TCSG</td>\n",
       "      <td>ТКСХолд ао</td>\n",
       "      <td>525,169,971,420.000</td>\n",
       "    </tr>\n",
       "    <tr>\n",
       "      <th>151</th>\n",
       "      <td>PIKK</td>\n",
       "      <td>ПИК ао</td>\n",
       "      <td>502,638,478,784.000</td>\n",
       "    </tr>\n",
       "    <tr>\n",
       "      <th>132</th>\n",
       "      <td>MTSS</td>\n",
       "      <td>МТС-ао</td>\n",
       "      <td>459,527,843,171.250</td>\n",
       "    </tr>\n",
       "    <tr>\n",
       "      <th>7</th>\n",
       "      <td>ALRS</td>\n",
       "      <td>АЛРОСА ао</td>\n",
       "      <td>449,115,604,117.400</td>\n",
       "    </tr>\n",
       "    <tr>\n",
       "      <th>219</th>\n",
       "      <td>UNAC</td>\n",
       "      <td>iАвиастКао</td>\n",
       "      <td>409,564,221,021.451</td>\n",
       "    </tr>\n",
       "    <tr>\n",
       "      <th>16</th>\n",
       "      <td>BANE</td>\n",
       "      <td>Башнефт ао</td>\n",
       "      <td>407,464,923,684.000</td>\n",
       "    </tr>\n",
       "    <tr>\n",
       "      <th>66</th>\n",
       "      <td>IRAO</td>\n",
       "      <td>ИнтерРАОао</td>\n",
       "      <td>402,879,600,000.000</td>\n",
       "    </tr>\n",
       "    <tr>\n",
       "      <th>192</th>\n",
       "      <td>SNGSP</td>\n",
       "      <td>Сургнфгз-п</td>\n",
       "      <td>381,634,012,544.250</td>\n",
       "    </tr>\n",
       "    <tr>\n",
       "      <th>235</th>\n",
       "      <td>VSMO</td>\n",
       "      <td>ВСМПО-АВСМ</td>\n",
       "      <td>340,121,371,000.000</td>\n",
       "    </tr>\n",
       "    <tr>\n",
       "      <th>198</th>\n",
       "      <td>SVCB</td>\n",
       "      <td>Совкомбанк</td>\n",
       "      <td>307,408,565,973.125</td>\n",
       "    </tr>\n",
       "    <tr>\n",
       "      <th>184</th>\n",
       "      <td>SBERP</td>\n",
       "      <td>Сбербанк-п</td>\n",
       "      <td>289,200,000,000.000</td>\n",
       "    </tr>\n",
       "    <tr>\n",
       "      <th>172</th>\n",
       "      <td>RTKM</td>\n",
       "      <td>Ростел -ао</td>\n",
       "      <td>272,784,297,920.610</td>\n",
       "    </tr>\n",
       "    <tr>\n",
       "      <th>62</th>\n",
       "      <td>HYDR</td>\n",
       "      <td>РусГидро</td>\n",
       "      <td>269,722,703,835.843</td>\n",
       "    </tr>\n",
       "    <tr>\n",
       "      <th>41</th>\n",
       "      <td>ENPG</td>\n",
       "      <td>ЭН+ГРУП ао</td>\n",
       "      <td>251,195,385,907.200</td>\n",
       "    </tr>\n",
       "    <tr>\n",
       "      <th>48</th>\n",
       "      <td>FLOT</td>\n",
       "      <td>Совкомфлот</td>\n",
       "      <td>250,799,355,945.600</td>\n",
       "    </tr>\n",
       "    <tr>\n",
       "      <th>24</th>\n",
       "      <td>CBOM</td>\n",
       "      <td>МКБ ао</td>\n",
       "      <td>227,255,167,669.068</td>\n",
       "    </tr>\n",
       "    <tr>\n",
       "      <th>4</th>\n",
       "      <td>AFLT</td>\n",
       "      <td>Аэрофлот</td>\n",
       "      <td>218,667,416,825.000</td>\n",
       "    </tr>\n",
       "    <tr>\n",
       "      <th>214</th>\n",
       "      <td>TRNFP</td>\n",
       "      <td>Транснф ап</td>\n",
       "      <td>216,127,625,000.000</td>\n",
       "    </tr>\n",
       "    <tr>\n",
       "      <th>44</th>\n",
       "      <td>FEES</td>\n",
       "      <td>Россети</td>\n",
       "      <td>211,557,356,157.848</td>\n",
       "    </tr>\n",
       "    <tr>\n",
       "      <th>3</th>\n",
       "      <td>AFKS</td>\n",
       "      <td>Система ао</td>\n",
       "      <td>206,124,000,000.000</td>\n",
       "    </tr>\n",
       "    <tr>\n",
       "      <th>45</th>\n",
       "      <td>FESH</td>\n",
       "      <td>ДВМП ао</td>\n",
       "      <td>199,150,350,000.000</td>\n",
       "    </tr>\n",
       "    <tr>\n",
       "      <th>156</th>\n",
       "      <td>POSI</td>\n",
       "      <td>iПозитив</td>\n",
       "      <td>194,964,000,000.000</td>\n",
       "    </tr>\n",
       "    <tr>\n",
       "      <th>217</th>\n",
       "      <td>UGLD</td>\n",
       "      <td>ЮГК</td>\n",
       "      <td>186,866,898,584.818</td>\n",
       "    </tr>\n",
       "    <tr>\n",
       "      <th>53</th>\n",
       "      <td>GCHE</td>\n",
       "      <td>ЧеркизГ-ао</td>\n",
       "      <td>185,798,095,821.000</td>\n",
       "    </tr>\n",
       "    <tr>\n",
       "      <th>213</th>\n",
       "      <td>TRMK</td>\n",
       "      <td>ТМК ао</td>\n",
       "      <td>176,420,400,000.000</td>\n",
       "    </tr>\n",
       "    <tr>\n",
       "      <th>161</th>\n",
       "      <td>RASP</td>\n",
       "      <td>Распадская</td>\n",
       "      <td>175,886,901,135.600</td>\n",
       "    </tr>\n",
       "    <tr>\n",
       "      <th>51</th>\n",
       "      <td>GAZS</td>\n",
       "      <td>ГАЗ-сервис</td>\n",
       "      <td>173,261,023,313.000</td>\n",
       "    </tr>\n",
       "    <tr>\n",
       "      <th>141</th>\n",
       "      <td>NMTP</td>\n",
       "      <td>НМТП ао</td>\n",
       "      <td>173,145,740,446.000</td>\n",
       "    </tr>\n",
       "  </tbody>\n",
       "</table>\n",
       "</div>"
      ],
      "text/plain": [
       "     SECID        NAME            Market_Cap\n",
       "183   SBER    Сбербанк 6,245,104,056,400.000\n",
       "169   ROSN    Роснефть 5,468,129,844,681.150\n",
       "96    LKOH      ЛУКОЙЛ 4,683,426,118,239.000\n",
       "188   SIBN  Газпрнефть 3,247,079,057,769.150\n",
       "145   NVTK  Новатэк ао 3,168,688,941,600.000\n",
       "50    GAZP  ГАЗПРОМ ао 3,155,916,004,699.000\n",
       "58    GMKN   ГМКНорНик 1,989,669,975,352.000\n",
       "152   PLZL       Полюс 1,759,309,307,300.000\n",
       "243   YDEX      ЯНДЕКС 1,476,834,170,140.000\n",
       "203   TATN  Татнфт 3ао 1,391,747,619,160.000\n",
       "27    CHMF    СевСт-ао 1,192,408,740,644.000\n",
       "191   SNGS    Сургнфгз   996,397,992,322.450\n",
       "140   NLMK     НЛМК ао   994,276,399,116.000\n",
       "52    GAZT  ГАЗ-Тек ао   819,813,813,700.000\n",
       "150   PHOR  ФосАгро ао   727,531,000,000.000\n",
       "67    IRKT   Яковлев-3   628,145,199,216.250\n",
       "111   MGNT   Магнит ао   586,041,246,927.500\n",
       "105   MAGN         ММК   568,158,808,850.000\n",
       "6     AKRN       Акрон   558,708,771,200.000\n",
       "176   RUAL    РУСАЛ ао   528,792,882,271.910\n",
       "117   MOEX    МосБиржа   527,464,981,833.180\n",
       "238   VTBR      ВТБ ао   525,286,933,413.260\n",
       "205   TCSG  ТКСХолд ао   525,169,971,420.000\n",
       "151   PIKK      ПИК ао   502,638,478,784.000\n",
       "132   MTSS      МТС-ао   459,527,843,171.250\n",
       "7     ALRS   АЛРОСА ао   449,115,604,117.400\n",
       "219   UNAC  iАвиастКао   409,564,221,021.451\n",
       "16    BANE  Башнефт ао   407,464,923,684.000\n",
       "66    IRAO  ИнтерРАОао   402,879,600,000.000\n",
       "192  SNGSP  Сургнфгз-п   381,634,012,544.250\n",
       "235   VSMO  ВСМПО-АВСМ   340,121,371,000.000\n",
       "198   SVCB  Совкомбанк   307,408,565,973.125\n",
       "184  SBERP  Сбербанк-п   289,200,000,000.000\n",
       "172   RTKM  Ростел -ао   272,784,297,920.610\n",
       "62    HYDR    РусГидро   269,722,703,835.843\n",
       "41    ENPG  ЭН+ГРУП ао   251,195,385,907.200\n",
       "48    FLOT  Совкомфлот   250,799,355,945.600\n",
       "24    CBOM      МКБ ао   227,255,167,669.068\n",
       "4     AFLT    Аэрофлот   218,667,416,825.000\n",
       "214  TRNFP  Транснф ап   216,127,625,000.000\n",
       "44    FEES     Россети   211,557,356,157.848\n",
       "3     AFKS  Система ао   206,124,000,000.000\n",
       "45    FESH     ДВМП ао   199,150,350,000.000\n",
       "156   POSI    iПозитив   194,964,000,000.000\n",
       "217   UGLD         ЮГК   186,866,898,584.818\n",
       "53    GCHE  ЧеркизГ-ао   185,798,095,821.000\n",
       "213   TRMK      ТМК ао   176,420,400,000.000\n",
       "161   RASP  Распадская   175,886,901,135.600\n",
       "51    GAZS  ГАЗ-сервис   173,261,023,313.000\n",
       "141   NMTP     НМТП ао   173,145,740,446.000"
      ]
     },
     "execution_count": 116,
     "metadata": {},
     "output_type": "execute_result"
    }
   ],
   "source": [
    "top_50"
   ]
  },
  {
   "cell_type": "markdown",
   "id": "9d37e41b",
   "metadata": {},
   "source": [
    "# Загружаем исторические данные стоимости топовых акции с 2015 год"
   ]
  },
  {
   "cell_type": "code",
   "execution_count": 10,
   "id": "563f7cd4",
   "metadata": {},
   "outputs": [],
   "source": [
    "top_id = top_50['SECID']"
   ]
  },
  {
   "cell_type": "code",
   "execution_count": 117,
   "id": "26cd3a5f",
   "metadata": {},
   "outputs": [],
   "source": [
    "def get_price(SECID,date_now,date_last):\n",
    "    url = f\"https://iss.moex.com/iss/history/engines/stock/markets/shares/securities/{SECID}.json\"\n",
    "    \n",
    "    params = {\n",
    "        'from':date_now,\n",
    "        'till': date_last,\n",
    "        'interval': 24,  # Дневные данные\n",
    "        'iss.meta': 'off',\n",
    "        'history.columns': 'TRADEDATE,CLOSE'\n",
    "             }\n",
    "    response = requests.get(url, params=params,timeout = 30)\n",
    "    if response.ok:\n",
    "        return response.json()\n",
    "    else:\n",
    "        print('Ошибка')\n",
    "#Функция для запросов с обработкой ошибки "
   ]
  },
  {
   "cell_type": "code",
   "execution_count": 118,
   "id": "d57b0592",
   "metadata": {},
   "outputs": [],
   "source": [
    "date = pd.date_range(pd.to_datetime('2015-01-01'),datetime.today().strftime('%Y-%m-%d'),freq = '100D',normalize=True)\n",
    "date = date.strftime('%Y-%m-%d')\n",
    "#Создаем временные промежутки "
   ]
  },
  {
   "cell_type": "code",
   "execution_count": 15,
   "id": "804c2b3a",
   "metadata": {
    "scrolled": false
   },
   "outputs": [
    {
     "name": "stdout",
     "output_type": "stream",
     "text": [
      "Данные по SBER загружены\n",
      "Данные по ROSN загружены\n",
      "Данные по LKOH загружены\n",
      "Данные по SIBN загружены\n",
      "Данные по NVTK загружены\n",
      "Данные по GAZP загружены\n",
      "Данные по GMKN загружены\n",
      "Данные по PLZL загружены\n",
      "Данные по YDEX загружены\n",
      "Данные по TATN загружены\n",
      "Данные по CHMF загружены\n",
      "Данные по SNGS загружены\n",
      "Данные по NLMK загружены\n",
      "Данные по GAZT загружены\n",
      "Данные по PHOR загружены\n",
      "Данные по IRKT загружены\n",
      "Данные по MGNT загружены\n",
      "Данные по MAGN загружены\n",
      "Данные по AKRN загружены\n",
      "Данные по RUAL загружены\n",
      "Данные по MOEX загружены\n",
      "Данные по VTBR загружены\n",
      "Данные по TCSG загружены\n",
      "Данные по PIKK загружены\n",
      "Данные по MTSS загружены\n",
      "Данные по ALRS загружены\n",
      "Данные по UNAC загружены\n",
      "Данные по BANE загружены\n",
      "Данные по IRAO загружены\n",
      "Данные по SNGSP загружены\n",
      "Данные по VSMO загружены\n",
      "Данные по SVCB загружены\n",
      "Данные по SBERP загружены\n",
      "Данные по RTKM загружены\n",
      "Данные по HYDR загружены\n",
      "Данные по ENPG загружены\n",
      "Данные по FLOT загружены\n",
      "Данные по CBOM загружены\n",
      "Данные по AFLT загружены\n",
      "Данные по TRNFP загружены\n",
      "Данные по FEES загружены\n",
      "Данные по AFKS загружены\n",
      "Данные по FESH загружены\n",
      "Данные по POSI загружены\n",
      "Данные по UGLD загружены\n",
      "Данные по GCHE загружены\n",
      "Данные по TRMK загружены\n",
      "Данные по RASP загружены\n",
      "Данные по GAZS загружены\n",
      "Данные по NMTP загружены\n"
     ]
    }
   ],
   "source": [
    "akc = dict()\n",
    "for SECID in top_id:\n",
    "    chena = []\n",
    "    for data in range(len(date)-1):\n",
    "        try:\n",
    "            get = get_price(SECID,date[data],date[data+1])['history']['data']\n",
    "            chena = chena + get\n",
    "            time.sleep(5)\n",
    "        except:\n",
    "            time.sleep(80)\n",
    "            get = get_price(SECID,date[data],date[data+1])['history']['data']\n",
    "            chena = chena + get\n",
    "    print(f'Данные по {SECID} загружены')\n",
    "    akc[SECID] = chena"
   ]
  },
  {
   "cell_type": "code",
   "execution_count": 16,
   "id": "ca6d3b20",
   "metadata": {},
   "outputs": [],
   "source": [
    "stock2015_2023 = pd.DataFrame({\n",
    "    'stock':[],\n",
    "    'date':[],\n",
    "    'price': []\n",
    "})"
   ]
  },
  {
   "cell_type": "code",
   "execution_count": 18,
   "id": "bb8b9e25",
   "metadata": {},
   "outputs": [],
   "source": [
    "for key in akc.keys():\n",
    "    bolv = pd.DataFrame({\n",
    "        'stock': [key for i in akc[key]],\n",
    "        'date': [i[0] for i in akc[key]],\n",
    "        'price': [i[1] for i in akc[key]]\n",
    "    })\n",
    "    stock2015_2023 = pd.concat([stock2015_2023,bolv],axis = 0,ignore_index = True)\n"
   ]
  },
  {
   "cell_type": "code",
   "execution_count": 19,
   "id": "33212ce8",
   "metadata": {},
   "outputs": [],
   "source": [
    "stock2015_2023 = (stock2015_2023.dropna(ignore_index = True)\n",
    "                 .groupby(['stock','date'],as_index=False,sort=False )\n",
    "                 .agg({'price':'max'}))"
   ]
  },
  {
   "cell_type": "code",
   "execution_count": 121,
   "id": "77cb526c",
   "metadata": {},
   "outputs": [
    {
     "data": {
      "text/html": [
       "<div>\n",
       "<style scoped>\n",
       "    .dataframe tbody tr th:only-of-type {\n",
       "        vertical-align: middle;\n",
       "    }\n",
       "\n",
       "    .dataframe tbody tr th {\n",
       "        vertical-align: top;\n",
       "    }\n",
       "\n",
       "    .dataframe thead th {\n",
       "        text-align: right;\n",
       "    }\n",
       "</style>\n",
       "<table border=\"1\" class=\"dataframe\">\n",
       "  <thead>\n",
       "    <tr style=\"text-align: right;\">\n",
       "      <th></th>\n",
       "      <th>stock</th>\n",
       "      <th>date</th>\n",
       "      <th>price</th>\n",
       "    </tr>\n",
       "  </thead>\n",
       "  <tbody>\n",
       "    <tr>\n",
       "      <th>0</th>\n",
       "      <td>SBER</td>\n",
       "      <td>2015-01-05</td>\n",
       "      <td>56.370</td>\n",
       "    </tr>\n",
       "    <tr>\n",
       "      <th>1</th>\n",
       "      <td>SBER</td>\n",
       "      <td>2015-01-06</td>\n",
       "      <td>58.280</td>\n",
       "    </tr>\n",
       "    <tr>\n",
       "      <th>2</th>\n",
       "      <td>SBER</td>\n",
       "      <td>2015-01-08</td>\n",
       "      <td>65.700</td>\n",
       "    </tr>\n",
       "    <tr>\n",
       "      <th>3</th>\n",
       "      <td>SBER</td>\n",
       "      <td>2015-01-09</td>\n",
       "      <td>63.380</td>\n",
       "    </tr>\n",
       "    <tr>\n",
       "      <th>4</th>\n",
       "      <td>SBER</td>\n",
       "      <td>2015-01-12</td>\n",
       "      <td>63.040</td>\n",
       "    </tr>\n",
       "  </tbody>\n",
       "</table>\n",
       "</div>"
      ],
      "text/plain": [
       "  stock        date  price\n",
       "0  SBER  2015-01-05 56.370\n",
       "1  SBER  2015-01-06 58.280\n",
       "2  SBER  2015-01-08 65.700\n",
       "3  SBER  2015-01-09 63.380\n",
       "4  SBER  2015-01-12 63.040"
      ]
     },
     "execution_count": 121,
     "metadata": {},
     "output_type": "execute_result"
    }
   ],
   "source": [
    "stock2015_2023.head(5)"
   ]
  },
  {
   "cell_type": "markdown",
   "id": "81f93110",
   "metadata": {},
   "source": [
    "# Грузим данные индекса Мосбиржи"
   ]
  },
  {
   "cell_type": "code",
   "execution_count": 128,
   "id": "de66ed88",
   "metadata": {},
   "outputs": [],
   "source": [
    "def get_imoex(start,end):\n",
    "    url = f\"https://iss.moex.com/iss/history/engines/stock/markets/index/securities/IMOEX.json\"\n",
    "    params = {\n",
    "        'from': start,\n",
    "        'till': end,\n",
    "        'interval': 24,  # Дневные данные\n",
    "        'iss.meta': 'off',\n",
    "        'history.columns': 'TRADEDATE,CLOSE'\n",
    "    }\n",
    "    \n",
    "    response = requests.get(url, params=params)\n",
    "    if response.ok:\n",
    "        return response.json()['history']['data']\n",
    "    else:\n",
    "        print('Ошибка')\n",
    "    "
   ]
  },
  {
   "cell_type": "code",
   "execution_count": 129,
   "id": "c52d1e5f",
   "metadata": {},
   "outputs": [],
   "source": [
    "imoex = []\n",
    "for i in range(len(date)-1):\n",
    "    tyu = get_imoex(date[i],date[i+1])\n",
    "    imoex = imoex + tyu\n",
    "    time.sleep(5)"
   ]
  },
  {
   "cell_type": "code",
   "execution_count": 130,
   "id": "f6a66276",
   "metadata": {},
   "outputs": [],
   "source": [
    "imoex_df = pd.DataFrame({\n",
    "    'imoex':['imoex' for i in imoex],\n",
    "    'date':[i[0] for i in imoex],\n",
    "    'price':[i[1] for i in imoex]\n",
    "})"
   ]
  },
  {
   "cell_type": "code",
   "execution_count": 131,
   "id": "8c00d577",
   "metadata": {},
   "outputs": [],
   "source": [
    "imoex_unique = (imoex_df\n",
    " .groupby('date')\n",
    " .agg({'price':'max'})\n",
    " . reset_index())"
   ]
  },
  {
   "cell_type": "markdown",
   "id": "75a6c6ba",
   "metadata": {},
   "source": [
    "# Сортируем по корреляции "
   ]
  },
  {
   "cell_type": "code",
   "execution_count": 132,
   "id": "071788a2",
   "metadata": {},
   "outputs": [],
   "source": [
    "stoc_merge = stock2015_2023.merge(imoex_unique,on = 'date',how = 'left',suffixes = ['_stock','_imoex'])"
   ]
  },
  {
   "cell_type": "code",
   "execution_count": 133,
   "id": "1c8e80be",
   "metadata": {},
   "outputs": [],
   "source": [
    "stoc_merge['corr'] = float(0)"
   ]
  },
  {
   "cell_type": "code",
   "execution_count": 135,
   "id": "4a6a1e87",
   "metadata": {},
   "outputs": [],
   "source": [
    "for i in stoc_merge.stock.unique():\n",
    "    dep = stoc_merge[stoc_merge['stock'] == i]\n",
    "    corr_ind = dep['price_stock'].corr(dep['price_imoex'])\n",
    "    stoc_merge.loc[stoc_merge['stock'] == i,'corr'] = corr_ind"
   ]
  },
  {
   "cell_type": "code",
   "execution_count": 136,
   "id": "ede29e11",
   "metadata": {},
   "outputs": [],
   "source": [
    "sort_corr_top20 = (stoc_merge[['stock','corr']]\n",
    " .drop_duplicates(subset = 'stock')\n",
    " .sort_values(by = 'corr',ascending=False)\n",
    " .reset_index()\n",
    " .drop('index',axis = 1)\n",
    " .head(20)\n",
    " .sort_values(by = 'corr'))"
   ]
  },
  {
   "cell_type": "code",
   "execution_count": 137,
   "id": "3dac1729",
   "metadata": {},
   "outputs": [
    {
     "data": {
      "text/html": [
       "<div>\n",
       "<style scoped>\n",
       "    .dataframe tbody tr th:only-of-type {\n",
       "        vertical-align: middle;\n",
       "    }\n",
       "\n",
       "    .dataframe tbody tr th {\n",
       "        vertical-align: top;\n",
       "    }\n",
       "\n",
       "    .dataframe thead th {\n",
       "        text-align: right;\n",
       "    }\n",
       "</style>\n",
       "<table border=\"1\" class=\"dataframe\">\n",
       "  <thead>\n",
       "    <tr style=\"text-align: right;\">\n",
       "      <th></th>\n",
       "      <th>stock</th>\n",
       "      <th>corr</th>\n",
       "    </tr>\n",
       "  </thead>\n",
       "  <tbody>\n",
       "    <tr>\n",
       "      <th>19</th>\n",
       "      <td>ENPG</td>\n",
       "      <td>0.692</td>\n",
       "    </tr>\n",
       "    <tr>\n",
       "      <th>18</th>\n",
       "      <td>NMTP</td>\n",
       "      <td>0.698</td>\n",
       "    </tr>\n",
       "    <tr>\n",
       "      <th>17</th>\n",
       "      <td>RASP</td>\n",
       "      <td>0.703</td>\n",
       "    </tr>\n",
       "    <tr>\n",
       "      <th>16</th>\n",
       "      <td>IRAO</td>\n",
       "      <td>0.733</td>\n",
       "    </tr>\n",
       "    <tr>\n",
       "      <th>15</th>\n",
       "      <td>MTSS</td>\n",
       "      <td>0.748</td>\n",
       "    </tr>\n",
       "    <tr>\n",
       "      <th>14</th>\n",
       "      <td>TCSG</td>\n",
       "      <td>0.756</td>\n",
       "    </tr>\n",
       "    <tr>\n",
       "      <th>13</th>\n",
       "      <td>MOEX</td>\n",
       "      <td>0.776</td>\n",
       "    </tr>\n",
       "    <tr>\n",
       "      <th>12</th>\n",
       "      <td>CBOM</td>\n",
       "      <td>0.799</td>\n",
       "    </tr>\n",
       "    <tr>\n",
       "      <th>11</th>\n",
       "      <td>PLZL</td>\n",
       "      <td>0.847</td>\n",
       "    </tr>\n",
       "    <tr>\n",
       "      <th>10</th>\n",
       "      <td>PIKK</td>\n",
       "      <td>0.850</td>\n",
       "    </tr>\n",
       "    <tr>\n",
       "      <th>9</th>\n",
       "      <td>CHMF</td>\n",
       "      <td>0.886</td>\n",
       "    </tr>\n",
       "    <tr>\n",
       "      <th>8</th>\n",
       "      <td>MAGN</td>\n",
       "      <td>0.904</td>\n",
       "    </tr>\n",
       "    <tr>\n",
       "      <th>7</th>\n",
       "      <td>NVTK</td>\n",
       "      <td>0.907</td>\n",
       "    </tr>\n",
       "    <tr>\n",
       "      <th>6</th>\n",
       "      <td>LKOH</td>\n",
       "      <td>0.907</td>\n",
       "    </tr>\n",
       "    <tr>\n",
       "      <th>5</th>\n",
       "      <td>SBER</td>\n",
       "      <td>0.922</td>\n",
       "    </tr>\n",
       "    <tr>\n",
       "      <th>4</th>\n",
       "      <td>NLMK</td>\n",
       "      <td>0.923</td>\n",
       "    </tr>\n",
       "    <tr>\n",
       "      <th>3</th>\n",
       "      <td>ROSN</td>\n",
       "      <td>0.925</td>\n",
       "    </tr>\n",
       "    <tr>\n",
       "      <th>2</th>\n",
       "      <td>SBERP</td>\n",
       "      <td>0.933</td>\n",
       "    </tr>\n",
       "    <tr>\n",
       "      <th>1</th>\n",
       "      <td>YDEX</td>\n",
       "      <td>0.970</td>\n",
       "    </tr>\n",
       "    <tr>\n",
       "      <th>0</th>\n",
       "      <td>GAZS</td>\n",
       "      <td>0.974</td>\n",
       "    </tr>\n",
       "  </tbody>\n",
       "</table>\n",
       "</div>"
      ],
      "text/plain": [
       "    stock  corr\n",
       "19   ENPG 0.692\n",
       "18   NMTP 0.698\n",
       "17   RASP 0.703\n",
       "16   IRAO 0.733\n",
       "15   MTSS 0.748\n",
       "14   TCSG 0.756\n",
       "13   MOEX 0.776\n",
       "12   CBOM 0.799\n",
       "11   PLZL 0.847\n",
       "10   PIKK 0.850\n",
       "9    CHMF 0.886\n",
       "8    MAGN 0.904\n",
       "7    NVTK 0.907\n",
       "6    LKOH 0.907\n",
       "5    SBER 0.922\n",
       "4    NLMK 0.923\n",
       "3    ROSN 0.925\n",
       "2   SBERP 0.933\n",
       "1    YDEX 0.970\n",
       "0    GAZS 0.974"
      ]
     },
     "execution_count": 137,
     "metadata": {},
     "output_type": "execute_result"
    }
   ],
   "source": [
    "sort_corr_top20"
   ]
  },
  {
   "cell_type": "code",
   "execution_count": 138,
   "id": "4b0a5245",
   "metadata": {},
   "outputs": [
    {
     "data": {
      "image/png": "[encoded data removed]",
      "text/plain": [
       "<Figure size 800x600 with 1 Axes>"
      ]
     },
     "metadata": {},
     "output_type": "display_data"
    }
   ],
   "source": [
    "fig,ax = plt.subplots(dpi = 125)\n",
    "\n",
    "ax.spines['top'].set_visible(False)\n",
    "ax.spines['right'].set_visible(False)\n",
    "\n",
    "ax.barh(y = sort_corr_top20['stock'], width=sort_corr_top20['corr'],height = 0.95,alpha = 0.4,zorder=1000,color = '#EE82EE')\n",
    "\n",
    "ax.set_title('Топ 20 стран по корреляции индекса Мосбиржи и цен акций',loc='left')\n",
    "\n",
    "ax.set_xlabel('Коэффициент корреляции')\n",
    "\n",
    "ax.grid(alpha = 0.4)"
   ]
  },
  {
   "cell_type": "markdown",
   "id": "54c9bae6",
   "metadata": {},
   "source": [
    "# Возьму акции Сбера,Лукойла и MOEX и посчитаю корреляцию с лагом"
   ]
  },
  {
   "cell_type": "code",
   "execution_count": 140,
   "id": "57190bd2",
   "metadata": {},
   "outputs": [],
   "source": [
    "Sber = (stoc_merge[stoc_merge['stock'] == 'SBER']\n",
    "        .reset_index()\n",
    "        .drop('index',axis = 1))"
   ]
  },
  {
   "cell_type": "code",
   "execution_count": 141,
   "id": "b4428c06",
   "metadata": {},
   "outputs": [],
   "source": [
    "dano = Sber.loc[Sber[Sber['date'] == '2015-02-02'].index[0] :,].shape[0]\n",
    "index = Sber[Sber['date'] == '2015-02-02'].index[0]"
   ]
  },
  {
   "cell_type": "markdown",
   "id": "8a686809",
   "metadata": {},
   "source": [
    "Коэффициент корреляции с лагом для Сбера"
   ]
  },
  {
   "cell_type": "code",
   "execution_count": 147,
   "id": "b3453e31",
   "metadata": {},
   "outputs": [
    {
     "data": {
      "text/plain": [
       "0.9218123080932532"
      ]
     },
     "execution_count": 147,
     "metadata": {},
     "output_type": "execute_result"
    }
   ],
   "source": [
    "Sber.loc[index:,'price_stock'].corr(Sber.loc[:dano,'price_imoex'])"
   ]
  },
  {
   "cell_type": "markdown",
   "id": "d39f2cce",
   "metadata": {},
   "source": [
    "Коэффициент корреляции с лагом для Лукойла"
   ]
  },
  {
   "cell_type": "code",
   "execution_count": 143,
   "id": "d8dfab25",
   "metadata": {},
   "outputs": [
    {
     "data": {
      "text/plain": [
       "0.9381053848001596"
      ]
     },
     "execution_count": 143,
     "metadata": {},
     "output_type": "execute_result"
    }
   ],
   "source": [
    "Lkoh = (stoc_merge[stoc_merge['stock'] == 'LKOH']\n",
    "        .reset_index()\n",
    "        .drop('index',axis = 1))\n",
    "Lkoh.loc[index:,'price_stock'].corr(Lkoh.loc[:dano,'price_imoex'])"
   ]
  },
  {
   "cell_type": "markdown",
   "id": "23821087",
   "metadata": {},
   "source": [
    "Коэффициент корреляции с лагом для MOEX"
   ]
  },
  {
   "cell_type": "code",
   "execution_count": 144,
   "id": "d1b2071e",
   "metadata": {},
   "outputs": [
    {
     "data": {
      "text/plain": [
       "0.7945994518895333"
      ]
     },
     "execution_count": 144,
     "metadata": {},
     "output_type": "execute_result"
    }
   ],
   "source": [
    "MOEX = (stoc_merge[stoc_merge['stock'] == 'MOEX']\n",
    "        .reset_index()\n",
    "        .drop('index',axis = 1))\n",
    "MOEX.loc[index:,'price_stock'].corr(MOEX.loc[:dano,'price_imoex'])"
   ]
  }
 ],
 "metadata": {
  "kernelspec": {
   "display_name": "Python 3 (ipykernel)",
   "language": "python",
   "name": "python3"
  },
  "language_info": {
   "codemirror_mode": {
    "name": "ipython",
    "version": 3
   },
   "file_extension": ".py",
   "mimetype": "text/x-python",
   "name": "python",
   "nbconvert_exporter": "python",
   "pygments_lexer": "ipython3",
   "version": "3.11.5"
  }
 },
 "nbformat": 4,
 "nbformat_minor": 5
}
